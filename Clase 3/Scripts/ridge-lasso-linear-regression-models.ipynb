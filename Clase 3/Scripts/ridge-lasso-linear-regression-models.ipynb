{
 "cells": [
  {
   "cell_type": "markdown",
   "metadata": {
    "papermill": {
     "duration": 0.031886,
     "end_time": "2021-01-04T17:23:54.572911",
     "exception": false,
     "start_time": "2021-01-04T17:23:54.541025",
     "status": "completed"
    },
    "tags": []
   },
   "source": [
    "# Paquetes"
   ]
  },
  {
   "cell_type": "code",
   "execution_count": 66,
   "metadata": {
    "papermill": {
     "duration": 1.439591,
     "end_time": "2021-01-04T17:23:56.043992",
     "exception": false,
     "start_time": "2021-01-04T17:23:54.604401",
     "status": "completed"
    },
    "tags": []
   },
   "outputs": [],
   "source": [
    "import numpy as np   \n",
    "\n",
    "from sklearn.linear_model import LinearRegression\n",
    "from sklearn.linear_model import Ridge\n",
    "from sklearn.linear_model import Lasso\n",
    "\n",
    "from sklearn.metrics import r2_score\n",
    "import pandas as pd    \n",
    "\n",
    "import matplotlib.pyplot as plt   \n",
    "import seaborn as sns"
   ]
  },
  {
   "cell_type": "code",
   "execution_count": 67,
   "metadata": {
    "papermill": {
     "duration": 0.059378,
     "end_time": "2021-01-04T17:23:56.134649",
     "exception": false,
     "start_time": "2021-01-04T17:23:56.075271",
     "status": "completed"
    },
    "tags": []
   },
   "outputs": [],
   "source": [
    "mpg_df = pd.read_csv(\"./auto-mpg.csv\")"
   ]
  },
  {
   "cell_type": "code",
   "execution_count": 68,
   "metadata": {
    "papermill": {
     "duration": 0.064981,
     "end_time": "2021-01-04T17:23:56.232975",
     "exception": false,
     "start_time": "2021-01-04T17:23:56.167994",
     "status": "completed"
    },
    "tags": []
   },
   "outputs": [
    {
     "data": {
      "text/html": [
       "<div>\n",
       "<style scoped>\n",
       "    .dataframe tbody tr th:only-of-type {\n",
       "        vertical-align: middle;\n",
       "    }\n",
       "\n",
       "    .dataframe tbody tr th {\n",
       "        vertical-align: top;\n",
       "    }\n",
       "\n",
       "    .dataframe thead th {\n",
       "        text-align: right;\n",
       "    }\n",
       "</style>\n",
       "<table border=\"1\" class=\"dataframe\">\n",
       "  <thead>\n",
       "    <tr style=\"text-align: right;\">\n",
       "      <th></th>\n",
       "      <th>mpg</th>\n",
       "      <th>cylinders</th>\n",
       "      <th>displacement</th>\n",
       "      <th>horsepower</th>\n",
       "      <th>weight</th>\n",
       "      <th>acceleration</th>\n",
       "      <th>model year</th>\n",
       "      <th>origin</th>\n",
       "      <th>car name</th>\n",
       "    </tr>\n",
       "  </thead>\n",
       "  <tbody>\n",
       "    <tr>\n",
       "      <th>0</th>\n",
       "      <td>18.0</td>\n",
       "      <td>8</td>\n",
       "      <td>307.0</td>\n",
       "      <td>130</td>\n",
       "      <td>3504</td>\n",
       "      <td>12.0</td>\n",
       "      <td>70</td>\n",
       "      <td>1</td>\n",
       "      <td>chevrolet chevelle malibu</td>\n",
       "    </tr>\n",
       "    <tr>\n",
       "      <th>1</th>\n",
       "      <td>15.0</td>\n",
       "      <td>8</td>\n",
       "      <td>350.0</td>\n",
       "      <td>165</td>\n",
       "      <td>3693</td>\n",
       "      <td>11.5</td>\n",
       "      <td>70</td>\n",
       "      <td>1</td>\n",
       "      <td>buick skylark 320</td>\n",
       "    </tr>\n",
       "    <tr>\n",
       "      <th>2</th>\n",
       "      <td>18.0</td>\n",
       "      <td>8</td>\n",
       "      <td>318.0</td>\n",
       "      <td>150</td>\n",
       "      <td>3436</td>\n",
       "      <td>11.0</td>\n",
       "      <td>70</td>\n",
       "      <td>1</td>\n",
       "      <td>plymouth satellite</td>\n",
       "    </tr>\n",
       "    <tr>\n",
       "      <th>3</th>\n",
       "      <td>16.0</td>\n",
       "      <td>8</td>\n",
       "      <td>304.0</td>\n",
       "      <td>150</td>\n",
       "      <td>3433</td>\n",
       "      <td>12.0</td>\n",
       "      <td>70</td>\n",
       "      <td>1</td>\n",
       "      <td>amc rebel sst</td>\n",
       "    </tr>\n",
       "    <tr>\n",
       "      <th>4</th>\n",
       "      <td>17.0</td>\n",
       "      <td>8</td>\n",
       "      <td>302.0</td>\n",
       "      <td>140</td>\n",
       "      <td>3449</td>\n",
       "      <td>10.5</td>\n",
       "      <td>70</td>\n",
       "      <td>1</td>\n",
       "      <td>ford torino</td>\n",
       "    </tr>\n",
       "  </tbody>\n",
       "</table>\n",
       "</div>"
      ],
      "text/plain": [
       "    mpg  cylinders  displacement horsepower  weight  acceleration  model year  \\\n",
       "0  18.0          8         307.0        130    3504          12.0          70   \n",
       "1  15.0          8         350.0        165    3693          11.5          70   \n",
       "2  18.0          8         318.0        150    3436          11.0          70   \n",
       "3  16.0          8         304.0        150    3433          12.0          70   \n",
       "4  17.0          8         302.0        140    3449          10.5          70   \n",
       "\n",
       "   origin                   car name  \n",
       "0       1  chevrolet chevelle malibu  \n",
       "1       1          buick skylark 320  \n",
       "2       1         plymouth satellite  \n",
       "3       1              amc rebel sst  \n",
       "4       1                ford torino  "
      ]
     },
     "execution_count": 68,
     "metadata": {},
     "output_type": "execute_result"
    }
   ],
   "source": [
    "mpg_df.head() #muestra de 5 registros"
   ]
  },
  {
   "cell_type": "markdown",
   "metadata": {},
   "source": [
    "# Ejercicio\n",
    "\n",
    "### Predecir el consumo de combustible en millas por galón (MPG) durante un ciclo urbano (es decir, la eficiencia de combustible de un vehículo mientras se conduce en una ciudad)"
   ]
  },
  {
   "cell_type": "code",
   "execution_count": 69,
   "metadata": {
    "papermill": {
     "duration": 0.056716,
     "end_time": "2021-01-04T17:23:56.325756",
     "exception": false,
     "start_time": "2021-01-04T17:23:56.269040",
     "status": "completed"
    },
    "tags": []
   },
   "outputs": [
    {
     "name": "stdout",
     "output_type": "stream",
     "text": [
      "<class 'pandas.core.frame.DataFrame'>\n",
      "RangeIndex: 398 entries, 0 to 397\n",
      "Data columns (total 9 columns):\n",
      " #   Column        Non-Null Count  Dtype  \n",
      "---  ------        --------------  -----  \n",
      " 0   mpg           398 non-null    float64\n",
      " 1   cylinders     398 non-null    int64  \n",
      " 2   displacement  398 non-null    float64\n",
      " 3   horsepower    398 non-null    object \n",
      " 4   weight        398 non-null    int64  \n",
      " 5   acceleration  398 non-null    float64\n",
      " 6   model year    398 non-null    int64  \n",
      " 7   origin        398 non-null    int64  \n",
      " 8   car name      398 non-null    object \n",
      "dtypes: float64(3), int64(4), object(2)\n",
      "memory usage: 28.1+ KB\n"
     ]
    }
   ],
   "source": [
    "mpg_df.info() #información sobre los datos"
   ]
  },
  {
   "cell_type": "markdown",
   "metadata": {
    "papermill": {
     "duration": 0.035925,
     "end_time": "2021-01-04T17:23:56.398664",
     "exception": false,
     "start_time": "2021-01-04T17:23:56.362739",
     "status": "completed"
    },
    "tags": []
   },
   "source": [
    "** Para construir un modelo de machine learning, debemos revisar que todas las variables numéricas están bien representadas. Note que \"horsepower\" y \"car name\" tienen tipo de dato \"object\"**\n",
    "\n",
    "**El nombre del carro no agrega ningún valor al modelo por lo que podemos eliminarlo**\n",
    "\n",
    "**Debemos revisar por qué caballos de fuerza (horsepower) no lo detecta como una columna numérica**"
   ]
  },
  {
   "cell_type": "code",
   "execution_count": 70,
   "metadata": {
    "papermill": {
     "duration": 0.084775,
     "end_time": "2021-01-04T17:23:56.520001",
     "exception": false,
     "start_time": "2021-01-04T17:23:56.435226",
     "status": "completed"
    },
    "tags": []
   },
   "outputs": [
    {
     "data": {
      "text/html": [
       "<div>\n",
       "<style scoped>\n",
       "    .dataframe tbody tr th:only-of-type {\n",
       "        vertical-align: middle;\n",
       "    }\n",
       "\n",
       "    .dataframe tbody tr th {\n",
       "        vertical-align: top;\n",
       "    }\n",
       "\n",
       "    .dataframe thead th {\n",
       "        text-align: right;\n",
       "    }\n",
       "</style>\n",
       "<table border=\"1\" class=\"dataframe\">\n",
       "  <thead>\n",
       "    <tr style=\"text-align: right;\">\n",
       "      <th></th>\n",
       "      <th>mpg</th>\n",
       "      <th>cylinders</th>\n",
       "      <th>displacement</th>\n",
       "      <th>horsepower</th>\n",
       "      <th>weight</th>\n",
       "      <th>acceleration</th>\n",
       "      <th>model year</th>\n",
       "      <th>origin</th>\n",
       "      <th>car name</th>\n",
       "    </tr>\n",
       "  </thead>\n",
       "  <tbody>\n",
       "    <tr>\n",
       "      <th>32</th>\n",
       "      <td>25.0</td>\n",
       "      <td>4</td>\n",
       "      <td>98.0</td>\n",
       "      <td>?</td>\n",
       "      <td>2046</td>\n",
       "      <td>19.0</td>\n",
       "      <td>71</td>\n",
       "      <td>1</td>\n",
       "      <td>ford pinto</td>\n",
       "    </tr>\n",
       "    <tr>\n",
       "      <th>126</th>\n",
       "      <td>21.0</td>\n",
       "      <td>6</td>\n",
       "      <td>200.0</td>\n",
       "      <td>?</td>\n",
       "      <td>2875</td>\n",
       "      <td>17.0</td>\n",
       "      <td>74</td>\n",
       "      <td>1</td>\n",
       "      <td>ford maverick</td>\n",
       "    </tr>\n",
       "    <tr>\n",
       "      <th>330</th>\n",
       "      <td>40.9</td>\n",
       "      <td>4</td>\n",
       "      <td>85.0</td>\n",
       "      <td>?</td>\n",
       "      <td>1835</td>\n",
       "      <td>17.3</td>\n",
       "      <td>80</td>\n",
       "      <td>2</td>\n",
       "      <td>renault lecar deluxe</td>\n",
       "    </tr>\n",
       "    <tr>\n",
       "      <th>336</th>\n",
       "      <td>23.6</td>\n",
       "      <td>4</td>\n",
       "      <td>140.0</td>\n",
       "      <td>?</td>\n",
       "      <td>2905</td>\n",
       "      <td>14.3</td>\n",
       "      <td>80</td>\n",
       "      <td>1</td>\n",
       "      <td>ford mustang cobra</td>\n",
       "    </tr>\n",
       "    <tr>\n",
       "      <th>354</th>\n",
       "      <td>34.5</td>\n",
       "      <td>4</td>\n",
       "      <td>100.0</td>\n",
       "      <td>?</td>\n",
       "      <td>2320</td>\n",
       "      <td>15.8</td>\n",
       "      <td>81</td>\n",
       "      <td>2</td>\n",
       "      <td>renault 18i</td>\n",
       "    </tr>\n",
       "    <tr>\n",
       "      <th>374</th>\n",
       "      <td>23.0</td>\n",
       "      <td>4</td>\n",
       "      <td>151.0</td>\n",
       "      <td>?</td>\n",
       "      <td>3035</td>\n",
       "      <td>20.5</td>\n",
       "      <td>82</td>\n",
       "      <td>1</td>\n",
       "      <td>amc concord dl</td>\n",
       "    </tr>\n",
       "  </tbody>\n",
       "</table>\n",
       "</div>"
      ],
      "text/plain": [
       "      mpg  cylinders  displacement horsepower  weight  acceleration  \\\n",
       "32   25.0          4          98.0          ?    2046          19.0   \n",
       "126  21.0          6         200.0          ?    2875          17.0   \n",
       "330  40.9          4          85.0          ?    1835          17.3   \n",
       "336  23.6          4         140.0          ?    2905          14.3   \n",
       "354  34.5          4         100.0          ?    2320          15.8   \n",
       "374  23.0          4         151.0          ?    3035          20.5   \n",
       "\n",
       "     model year  origin              car name  \n",
       "32           71       1            ford pinto  \n",
       "126          74       1         ford maverick  \n",
       "330          80       2  renault lecar deluxe  \n",
       "336          80       1    ford mustang cobra  \n",
       "354          81       2           renault 18i  \n",
       "374          82       1        amc concord dl  "
      ]
     },
     "execution_count": 70,
     "metadata": {},
     "output_type": "execute_result"
    }
   ],
   "source": [
    "mpg_df[mpg_df['horsepower'].str.isnumeric()==False]"
   ]
  },
  {
   "cell_type": "markdown",
   "metadata": {
    "papermill": {
     "duration": 0.032648,
     "end_time": "2021-01-04T17:23:56.585780",
     "exception": false,
     "start_time": "2021-01-04T17:23:56.553132",
     "status": "completed"
    },
    "tags": []
   },
   "source": [
    "**Podemos ver que hay 6 valores que tienen \"?\" . Podemos reemplazarlos con valores nulos**"
   ]
  },
  {
   "cell_type": "code",
   "execution_count": 71,
   "metadata": {
    "papermill": {
     "duration": 0.042902,
     "end_time": "2021-01-04T17:23:56.662703",
     "exception": false,
     "start_time": "2021-01-04T17:23:56.619801",
     "status": "completed"
    },
    "tags": []
   },
   "outputs": [],
   "source": [
    "mpg_df=mpg_df.replace('?',np.nan)"
   ]
  },
  {
   "cell_type": "code",
   "execution_count": 72,
   "metadata": {
    "papermill": {
     "duration": 0.045617,
     "end_time": "2021-01-04T17:23:56.741620",
     "exception": false,
     "start_time": "2021-01-04T17:23:56.696003",
     "status": "completed"
    },
    "tags": []
   },
   "outputs": [],
   "source": [
    "mpg_df=mpg_df.drop('car name',axis=1)"
   ]
  },
  {
   "cell_type": "code",
   "execution_count": 73,
   "metadata": {
    "papermill": {
     "duration": 0.053091,
     "end_time": "2021-01-04T17:23:56.828145",
     "exception": false,
     "start_time": "2021-01-04T17:23:56.775054",
     "status": "completed"
    },
    "tags": []
   },
   "outputs": [],
   "source": [
    "mpg_df=mpg_df.apply(lambda x: x.fillna(x.median()),axis=0)"
   ]
  },
  {
   "cell_type": "code",
   "execution_count": 74,
   "metadata": {
    "papermill": {
     "duration": 0.048969,
     "end_time": "2021-01-04T17:23:56.910847",
     "exception": false,
     "start_time": "2021-01-04T17:23:56.861878",
     "status": "completed"
    },
    "tags": []
   },
   "outputs": [
    {
     "name": "stdout",
     "output_type": "stream",
     "text": [
      "<class 'pandas.core.frame.DataFrame'>\n",
      "RangeIndex: 398 entries, 0 to 397\n",
      "Data columns (total 8 columns):\n",
      " #   Column        Non-Null Count  Dtype  \n",
      "---  ------        --------------  -----  \n",
      " 0   mpg           398 non-null    float64\n",
      " 1   cylinders     398 non-null    int64  \n",
      " 2   displacement  398 non-null    float64\n",
      " 3   horsepower    398 non-null    object \n",
      " 4   weight        398 non-null    int64  \n",
      " 5   acceleration  398 non-null    float64\n",
      " 6   model year    398 non-null    int64  \n",
      " 7   origin        398 non-null    int64  \n",
      "dtypes: float64(3), int64(4), object(1)\n",
      "memory usage: 25.0+ KB\n"
     ]
    }
   ],
   "source": [
    "mpg_df.info()"
   ]
  },
  {
   "cell_type": "markdown",
   "metadata": {
    "papermill": {
     "duration": 0.033289,
     "end_time": "2021-01-04T17:23:56.978715",
     "exception": false,
     "start_time": "2021-01-04T17:23:56.945426",
     "status": "completed"
    },
    "tags": []
   },
   "source": [
    "# Separar variables dependientes e independientes"
   ]
  },
  {
   "cell_type": "code",
   "execution_count": 75,
   "metadata": {
    "papermill": {
     "duration": 0.043917,
     "end_time": "2021-01-04T17:23:57.056912",
     "exception": false,
     "start_time": "2021-01-04T17:23:57.012995",
     "status": "completed"
    },
    "tags": []
   },
   "outputs": [],
   "source": [
    "#'mpg' es la variable dependiente, eliminarla de las variables dependientes\n",
    "X = mpg_df.drop('mpg', axis=1).astype(\"float\")\n",
    "\n",
    "#Copia la columna 'mpg' sola, pues es la variable dependiente\n",
    "y = mpg_df[['mpg']]\n"
   ]
  },
  {
   "cell_type": "markdown",
   "metadata": {
    "papermill": {
     "duration": 0.035911,
     "end_time": "2021-01-04T17:23:57.126950",
     "exception": false,
     "start_time": "2021-01-04T17:23:57.091039",
     "status": "completed"
    },
    "tags": []
   },
   "source": [
    "# Distribución de Variables independientes"
   ]
  },
  {
   "cell_type": "code",
   "execution_count": 76,
   "metadata": {
    "papermill": {
     "duration": 1.334498,
     "end_time": "2021-01-04T17:23:58.495841",
     "exception": false,
     "start_time": "2021-01-04T17:23:57.161343",
     "status": "completed"
    },
    "tags": []
   },
   "outputs": [
    {
     "data": {
      "image/png": "[encoded data removed]",
      "text/plain": [
       "<Figure size 1500x1500 with 7 Axes>"
      ]
     },
     "metadata": {},
     "output_type": "display_data"
    }
   ],
   "source": [
    "# Número de variables\n",
    "n_vars = len(X.columns)\n",
    "\n",
    "# Crear una figura con subplots: 3 filas y 3 columnas\n",
    "fig, axes = plt.subplots(nrows=3, ncols=3, figsize=(15, 15))\n",
    "\n",
    "# Aplanar el array de ejes para iterar más fácilmente\n",
    "axes = axes.flatten()\n",
    "\n",
    "# Graficar cada variable en un subplot\n",
    "for i, (ax, column) in enumerate(zip(axes, X.columns)):\n",
    "    sns.histplot(X[column], kde=True, ax=ax)\n",
    "    ax.set_title(f'Distribución de {column}')\n",
    "\n",
    "# Eliminar ejes vacíos si hay más subplots de los necesarios\n",
    "for j in range(i + 1, len(axes)):\n",
    "    fig.delaxes(axes[j])"
   ]
  },
  {
   "cell_type": "markdown",
   "metadata": {
    "papermill": {
     "duration": 0.038706,
     "end_time": "2021-01-04T17:23:58.574175",
     "exception": false,
     "start_time": "2021-01-04T17:23:58.535469",
     "status": "completed"
    },
    "tags": []
   },
   "source": [
    "**\"displacement\",\"horsepower\",\"weight\" columnas tienen asimetría positiva**\n",
    "\n",
    "**\"acceleration\"se distribuye normalmente**\n",
    "\n",
    "**\"model year\" parece normal con amplitud**\n",
    "\n",
    "**\"cylinders\" tiene valores específicos que se repiten bastante**"
   ]
  },
  {
   "cell_type": "markdown",
   "metadata": {
    "papermill": {
     "duration": 0.039444,
     "end_time": "2021-01-04T17:23:58.862804",
     "exception": false,
     "start_time": "2021-01-04T17:23:58.823360",
     "status": "completed"
    },
    "tags": []
   },
   "source": [
    "**origin 1 es más comparado que los otros**\n",
    "\n"
   ]
  },
  {
   "cell_type": "markdown",
   "metadata": {
    "papermill": {
     "duration": 0.039757,
     "end_time": "2021-01-04T17:23:58.942416",
     "exception": false,
     "start_time": "2021-01-04T17:23:58.902659",
     "status": "completed"
    },
    "tags": []
   },
   "source": [
    "# Distribución de variable dependiente"
   ]
  },
  {
   "cell_type": "code",
   "execution_count": 77,
   "metadata": {
    "papermill": {
     "duration": 0.245455,
     "end_time": "2021-01-04T17:23:59.227872",
     "exception": false,
     "start_time": "2021-01-04T17:23:58.982417",
     "status": "completed"
    },
    "tags": []
   },
   "outputs": [
    {
     "data": {
      "text/plain": [
       "<Axes: xlabel='mpg', ylabel='Count'>"
      ]
     },
     "execution_count": 77,
     "metadata": {},
     "output_type": "execute_result"
    },
    {
     "data": {
      "image/png": "[encoded data removed]",
      "text/plain": [
       "<Figure size 640x480 with 1 Axes>"
      ]
     },
     "metadata": {},
     "output_type": "display_data"
    }
   ],
   "source": [
    "sns.histplot(y['mpg'], kde=True)"
   ]
  },
  {
   "cell_type": "markdown",
   "metadata": {
    "papermill": {
     "duration": 0.046369,
     "end_time": "2021-01-04T17:23:59.320636",
     "exception": false,
     "start_time": "2021-01-04T17:23:59.274267",
     "status": "completed"
    },
    "tags": []
   },
   "source": [
    "**Pequeña asimetría positiva (hacia la derecha)**"
   ]
  },
  {
   "cell_type": "code",
   "execution_count": 78,
   "metadata": {
    "papermill": {
     "duration": 0.057711,
     "end_time": "2021-01-04T17:23:59.422349",
     "exception": false,
     "start_time": "2021-01-04T17:23:59.364638",
     "status": "completed"
    },
    "tags": []
   },
   "outputs": [],
   "source": [
    "from sklearn.preprocessing import StandardScaler\n",
    "estandarizador = StandardScaler()\n",
    "estandarizador.fit(X.loc[:])\n",
    "X.loc[:] = estandarizador.transform(X.loc[:])"
   ]
  },
  {
   "cell_type": "code",
   "execution_count": 79,
   "metadata": {
    "papermill": {
     "duration": 0.053401,
     "end_time": "2021-01-04T17:23:59.522029",
     "exception": false,
     "start_time": "2021-01-04T17:23:59.468628",
     "status": "completed"
    },
    "tags": []
   },
   "outputs": [],
   "source": [
    "\n",
    "from sklearn.model_selection import train_test_split\n",
    "\n",
    "X_train, X_test, y_train, y_test = train_test_split(X, y, test_size=0.20, random_state=1)"
   ]
  },
  {
   "cell_type": "markdown",
   "metadata": {
    "papermill": {
     "duration": 0.041676,
     "end_time": "2021-01-04T17:23:59.606191",
     "exception": false,
     "start_time": "2021-01-04T17:23:59.564515",
     "status": "completed"
    },
    "tags": []
   },
   "source": [
    "# Regresión lineal"
   ]
  },
  {
   "cell_type": "code",
   "execution_count": 80,
   "metadata": {
    "papermill": {
     "duration": 0.119938,
     "end_time": "2021-01-04T17:23:59.768190",
     "exception": false,
     "start_time": "2021-01-04T17:23:59.648252",
     "status": "completed"
    },
    "tags": []
   },
   "outputs": [
    {
     "name": "stdout",
     "output_type": "stream",
     "text": [
      "El coeficiente para cylinders es -0.4729063660417347\n",
      "El coeficiente para displacement es 1.8680965351111951\n",
      "El coeficiente para horsepower es -0.6068096458332478\n",
      "El coeficiente para weight es -5.674923529213638\n",
      "El coeficiente para acceleration es 0.2979856433283217\n",
      "El coeficiente para model year es 2.9312409979100544\n",
      "El coeficiente para origin es 1.0685755174599958\n"
     ]
    }
   ],
   "source": [
    "regression_model = LinearRegression()\n",
    "regression_model.fit(X_train, y_train)\n",
    "\n",
    "for idx, col_name in enumerate(X_train.columns):\n",
    "    print(\"El coeficiente para {} es {}\".format(col_name, regression_model.coef_[0][idx]))"
   ]
  },
  {
   "cell_type": "markdown",
   "metadata": {
    "papermill": {
     "duration": 0.042084,
     "end_time": "2021-01-04T17:23:59.858112",
     "exception": false,
     "start_time": "2021-01-04T17:23:59.816028",
     "status": "completed"
    },
    "tags": []
   },
   "source": [
    "**Here the coeficient values are relatively smaller. So we can say this is the smoother model.**"
   ]
  },
  {
   "cell_type": "code",
   "execution_count": 81,
   "metadata": {
    "papermill": {
     "duration": 0.052589,
     "end_time": "2021-01-04T17:23:59.953251",
     "exception": false,
     "start_time": "2021-01-04T17:23:59.900662",
     "status": "completed"
    },
    "tags": []
   },
   "outputs": [
    {
     "name": "stdout",
     "output_type": "stream",
     "text": [
      "El intercepto del modelo es 23.507002873795237\n"
     ]
    }
   ],
   "source": [
    "intercept = regression_model.intercept_[0]\n",
    "\n",
    "print(\"El intercepto del modelo es {}\".format(intercept))"
   ]
  },
  {
   "cell_type": "markdown",
   "metadata": {
    "papermill": {
     "duration": 0.042711,
     "end_time": "2021-01-04T17:24:00.038830",
     "exception": false,
     "start_time": "2021-01-04T17:23:59.996119",
     "status": "completed"
    },
    "tags": []
   },
   "source": [
    "# Regularized Ridge Model "
   ]
  },
  {
   "cell_type": "code",
   "execution_count": 82,
   "metadata": {
    "papermill": {
     "duration": 0.075246,
     "end_time": "2021-01-04T17:24:00.156756",
     "exception": false,
     "start_time": "2021-01-04T17:24:00.081510",
     "status": "completed"
    },
    "tags": []
   },
   "outputs": [
    {
     "name": "stdout",
     "output_type": "stream",
     "text": [
      "Modelo Ridge: Coeficiente para cylinders es -0.45439831846742523\n",
      "Modelo Ridge: Coeficiente para displacement es 1.7913565700414005\n",
      "Modelo Ridge: Coeficiente para horsepower es -0.6186616245529789\n",
      "Modelo Ridge: Coeficiente para weight es -5.6151425052353625\n",
      "Modelo Ridge: Coeficiente para acceleration es 0.28567730781239636\n",
      "Modelo Ridge: Coeficiente para model year es 2.9244846118404095\n",
      "Modelo Ridge: Coeficiente para origin es 1.0640203145329086\n"
     ]
    }
   ],
   "source": [
    "ridge = Ridge(alpha=.3) #coefficients are prevented to become too big by this alpha value\n",
    "ridge.fit(X_train,y_train)\n",
    "for i,col in enumerate(X_train.columns):   \n",
    "    print (\"Modelo Ridge: Coeficiente para {} es {}\".format(col,ridge.coef_[0][i]))"
   ]
  },
  {
   "cell_type": "markdown",
   "metadata": {
    "papermill": {
     "duration": 0.043281,
     "end_time": "2021-01-04T17:24:00.329053",
     "exception": false,
     "start_time": "2021-01-04T17:24:00.285772",
     "status": "completed"
    },
    "tags": []
   },
   "source": [
    "# Regularized LASSO Model"
   ]
  },
  {
   "cell_type": "code",
   "execution_count": 83,
   "metadata": {
    "papermill": {
     "duration": 0.065111,
     "end_time": "2021-01-04T17:24:00.437562",
     "exception": false,
     "start_time": "2021-01-04T17:24:00.372451",
     "status": "completed"
    },
    "tags": []
   },
   "outputs": [
    {
     "name": "stdout",
     "output_type": "stream",
     "text": [
      "Modelo Lasso: Coeficiente para cylinders es -0.0:\n",
      "Modelo Lasso: Coeficiente para displacement es 0.0:\n",
      "Modelo Lasso: Coeficiente para horsepower es -0.3346917149019299:\n",
      "Modelo Lasso: Coeficiente para weight es -4.804343765341972:\n",
      "Modelo Lasso: Coeficiente para acceleration es 0.07413802599856768:\n",
      "Modelo Lasso: Coeficiente para model year es 2.8042052642372886:\n",
      "Modelo Lasso: Coeficiente para origin es 0.7832616753738505:\n"
     ]
    }
   ],
   "source": [
    "lasso = Lasso(alpha=0.1)\n",
    "lasso.fit(X_train,y_train)\n",
    "for i,col in enumerate(X_train):\n",
    "    print (\"Modelo Lasso: Coeficiente para {} es {}:\".format(col,lasso.coef_[i]))"
   ]
  },
  {
   "cell_type": "markdown",
   "metadata": {
    "papermill": {
     "duration": 0.052655,
     "end_time": "2021-01-04T17:24:00.628351",
     "exception": false,
     "start_time": "2021-01-04T17:24:00.575696",
     "status": "completed"
    },
    "tags": []
   },
   "source": [
    "## Comparar R²"
   ]
  },
  {
   "cell_type": "code",
   "execution_count": 84,
   "metadata": {
    "papermill": {
     "duration": 0.068728,
     "end_time": "2021-01-04T17:24:00.753334",
     "exception": false,
     "start_time": "2021-01-04T17:24:00.684606",
     "status": "completed"
    },
    "tags": []
   },
   "outputs": [
    {
     "name": "stdout",
     "output_type": "stream",
     "text": [
      "0.8102052299899135\n",
      "0.8641210527455936\n"
     ]
    }
   ],
   "source": [
    "print(regression_model.score(X_train, y_train))\n",
    "print(regression_model.score(X_test, y_test))\n"
   ]
  },
  {
   "cell_type": "code",
   "execution_count": 85,
   "metadata": {
    "papermill": {
     "duration": 0.07671,
     "end_time": "2021-01-04T17:24:00.881445",
     "exception": false,
     "start_time": "2021-01-04T17:24:00.804735",
     "status": "completed"
    },
    "tags": []
   },
   "outputs": [
    {
     "name": "stdout",
     "output_type": "stream",
     "text": [
      "0.8101975946311711\n",
      "0.8641116185607699\n"
     ]
    }
   ],
   "source": [
    "print(ridge.score(X_train, y_train))\n",
    "print(ridge.score(X_test, y_test))"
   ]
  },
  {
   "cell_type": "code",
   "execution_count": 86,
   "metadata": {
    "papermill": {
     "duration": 0.068033,
     "end_time": "2021-01-04T17:24:01.091162",
     "exception": false,
     "start_time": "2021-01-04T17:24:01.023129",
     "status": "completed"
    },
    "tags": []
   },
   "outputs": [
    {
     "name": "stdout",
     "output_type": "stream",
     "text": [
      "0.8066763358978397\n",
      "0.8631912428713555\n"
     ]
    }
   ],
   "source": [
    "print(lasso.score(X_train, y_train))\n",
    "print(lasso.score(X_test, y_test))"
   ]
  },
  {
   "cell_type": "markdown",
   "metadata": {
    "papermill": {
     "duration": 0.045593,
     "end_time": "2021-01-04T17:24:01.274351",
     "exception": false,
     "start_time": "2021-01-04T17:24:01.228758",
     "status": "completed"
    },
    "tags": []
   },
   "source": [
    "# Usar Polinomios"
   ]
  },
  {
   "cell_type": "code",
   "execution_count": 87,
   "metadata": {
    "papermill": {
     "duration": 0.058221,
     "end_time": "2021-01-04T17:24:01.378238",
     "exception": false,
     "start_time": "2021-01-04T17:24:01.320017",
     "status": "completed"
    },
    "tags": []
   },
   "outputs": [],
   "source": [
    "from sklearn.preprocessing import PolynomialFeatures"
   ]
  },
  {
   "cell_type": "code",
   "execution_count": 88,
   "metadata": {
    "papermill": {
     "duration": 0.053741,
     "end_time": "2021-01-04T17:24:01.477774",
     "exception": false,
     "start_time": "2021-01-04T17:24:01.424033",
     "status": "completed"
    },
    "tags": []
   },
   "outputs": [],
   "source": [
    "poly = PolynomialFeatures(degree = 4, interaction_only=True)"
   ]
  },
  {
   "cell_type": "code",
   "execution_count": 89,
   "metadata": {
    "papermill": {
     "duration": 0.062322,
     "end_time": "2021-01-04T17:24:01.587778",
     "exception": false,
     "start_time": "2021-01-04T17:24:01.525456",
     "status": "completed"
    },
    "tags": []
   },
   "outputs": [
    {
     "data": {
      "text/plain": [
       "(278, 99)"
      ]
     },
     "execution_count": 89,
     "metadata": {},
     "output_type": "execute_result"
    }
   ],
   "source": [
    "X_poly = poly.fit_transform(X)\n",
    "X_train, X_test, y_train, y_test = train_test_split(X_poly, y, test_size=0.30, random_state=1)\n",
    "X_train.shape"
   ]
  },
  {
   "cell_type": "markdown",
   "metadata": {
    "papermill": {
     "duration": 0.046803,
     "end_time": "2021-01-04T17:24:01.775187",
     "exception": false,
     "start_time": "2021-01-04T17:24:01.728384",
     "status": "completed"
    },
    "tags": []
   },
   "source": [
    "# Simple non regularized linear model on poly features-"
   ]
  },
  {
   "cell_type": "code",
   "execution_count": 90,
   "metadata": {
    "papermill": {
     "duration": 0.064354,
     "end_time": "2021-01-04T17:24:01.887116",
     "exception": false,
     "start_time": "2021-01-04T17:24:01.822762",
     "status": "completed"
    },
    "tags": []
   },
   "outputs": [
    {
     "name": "stdout",
     "output_type": "stream",
     "text": [
      "[-3.96660532e-11 -6.60236945e-01 -6.44440804e+00 -4.52420242e+00\n",
      "  5.49819653e+00  2.63319296e+00 -2.84556399e+00 -4.10958191e+00\n",
      " -1.13710690e+00  1.12938361e+01 -2.81445816e-01  1.25758167e+01\n",
      " -3.46009523e+00  1.32368439e-02 -9.16121759e+00  2.10723971e+01\n",
      " -1.88574643e+00 -5.06057944e-01 -9.05458971e+00  4.44595041e+00\n",
      " -2.12069958e+00 -1.14421381e+01 -2.19987195e+00 -3.30812946e+00\n",
      "  4.25816466e+00  1.05957105e+01 -6.38893691e+00  3.59648268e+00\n",
      " -4.29090628e+00  4.46213458e+00  6.11884993e+00  1.17254584e+01\n",
      "  8.56478208e-01 -4.36644007e+00  5.24779361e+00 -3.52078988e+00\n",
      " -3.21851614e+00  7.71922285e+00 -6.91706226e+00 -1.69623745e+00\n",
      "  2.97332151e+00 -3.19911476e+00  9.31253985e+00 -2.16580942e+00\n",
      "  3.83503162e+00 -1.13825320e+00 -1.30614273e+01  2.18070436e-01\n",
      " -1.14606618e+00  4.51763988e+00  2.11003461e+01 -5.97403273e+00\n",
      "  1.18745441e+01 -1.10549121e+01  4.13360662e+00  4.94025245e+00\n",
      "  1.84209093e+00 -1.53157184e+00 -4.74316566e+00 -1.58597371e+01\n",
      "  2.60727287e+00 -5.31867666e+00  8.61617713e+00 -1.17712887e+01\n",
      " -1.70629958e+00  1.35161919e+00 -3.90218340e+00  7.30054007e+00\n",
      "  5.14968462e-01 -3.23553816e+00  1.57972536e+01 -5.42754405e-01\n",
      "  1.42972842e+01 -4.10954994e+00  1.04541373e+00  4.51345533e-01\n",
      "  6.67951724e+00  8.42608751e-01 -6.01754416e+00 -1.25491425e+01\n",
      " -1.18322093e+00 -1.45832039e+00  3.01702751e+00 -7.37820730e+00\n",
      " -1.30415375e+00  2.33970143e+00 -1.54005259e+00 -2.84767753e+00\n",
      "  3.38164816e+00 -8.17145014e+00  2.34735109e+00 -7.89486663e+00\n",
      "  1.13528402e+00 -6.53337279e+00 -9.06925781e-02  4.27422031e+00\n",
      "  2.81689202e+00 -4.74367836e+00  5.26830379e+00]\n"
     ]
    }
   ],
   "source": [
    "regression_model.fit(X_train, y_train)\n",
    "print(regression_model.coef_[0])"
   ]
  },
  {
   "cell_type": "code",
   "execution_count": 91,
   "metadata": {},
   "outputs": [
    {
     "name": "stdout",
     "output_type": "stream",
     "text": [
      "0.9438181857709599\n",
      "0.6933126550976572\n"
     ]
    }
   ],
   "source": [
    "print(regression_model.score(X_train, y_train))\n",
    "print(regression_model.score(X_test, y_test))"
   ]
  },
  {
   "cell_type": "markdown",
   "metadata": {
    "papermill": {
     "duration": 0.046154,
     "end_time": "2021-01-04T17:24:02.085928",
     "exception": false,
     "start_time": "2021-01-04T17:24:02.039774",
     "status": "completed"
    },
    "tags": []
   },
   "source": [
    "# Regularized Ridge Model"
   ]
  },
  {
   "cell_type": "code",
   "execution_count": 146,
   "metadata": {
    "papermill": {
     "duration": 0.063333,
     "end_time": "2021-01-04T17:24:02.196129",
     "exception": false,
     "start_time": "2021-01-04T17:24:02.132796",
     "status": "completed"
    },
    "tags": []
   },
   "outputs": [
    {
     "name": "stdout",
     "output_type": "stream",
     "text": [
      "Ridge model: [[ 0.00000000e+00 -1.10213947e+00 -7.81577212e-01 -2.25771708e+00\n",
      "  -2.93744338e+00 -1.35621976e+00  1.01121867e+00 -7.58555024e-01\n",
      "   8.04927664e-02 -3.68560865e-02  1.16313558e+00  9.39156431e-01\n",
      "  -9.65373434e-01  1.82472690e-01  2.58202374e-01  2.00415657e+00\n",
      "  -2.96282358e-01  2.29524162e+00 -1.51404430e-01 -2.51962611e-01\n",
      "   3.46903164e-01 -5.48307012e-01 -4.71750578e-01  8.96591708e-01\n",
      "  -3.28458764e-01 -4.72638776e-01  2.63646880e-01 -3.94102114e-01\n",
      "  -1.47499620e-01 -3.97976671e-01 -1.45517124e+00  1.06129148e+00\n",
      "   1.28672358e+00 -1.15322754e+00  9.39897600e-01 -3.40934436e-01\n",
      "   1.01597995e+00  5.15568481e-01 -4.71632937e-01 -1.08883989e-03\n",
      "  -5.31427236e-01  5.47583410e-01  2.24141950e-01 -1.67116422e-01\n",
      "   8.05995979e-01  5.46070215e-01 -7.14426658e-01  1.40686376e+00\n",
      "   9.12652687e-01  4.26765088e-01  1.39833082e+00  1.29534631e-01\n",
      "   4.27804847e-01 -1.88236659e+00  5.20183869e-01  6.54436572e-01\n",
      "  -9.55248083e-01 -1.49513917e+00 -1.37528073e+00  1.27629149e-01\n",
      "   5.19715421e-01  1.98862715e+00  1.64066392e+00 -1.21195925e+00\n",
      "  -2.09957665e-01  2.66731108e-01 -8.09317338e-01 -2.48286835e-01\n",
      "  -6.35835514e-01 -1.62305884e+00  1.05610670e+00  2.27513166e-01\n",
      "   9.68268424e-01 -1.20368174e-01 -2.15853211e-01  2.77366340e-01\n",
      "   5.24378175e-01  1.10167770e-01  4.00153535e-01  7.05266358e-01\n",
      "  -2.39043791e-01  3.16251744e-01 -2.09100658e-01  6.54023291e-01\n",
      "  -3.94214963e-01  5.86335739e-01 -7.20273444e-02 -2.97033073e-01\n",
      "   1.04789020e+00  1.53112151e+00  2.31437732e-02 -6.04345823e-01\n",
      "  -7.75892313e-01 -8.49173456e-01 -3.99678562e-01  4.10551937e-01\n",
      "  -6.08188555e-01 -1.68264052e+00  1.01140628e+00]]\n"
     ]
    }
   ],
   "source": [
    "ridge = Ridge(alpha=1.99)\n",
    "ridge.fit(X_train,y_train)\n",
    "print (\"Ridge model:\", (ridge.coef_))"
   ]
  },
  {
   "cell_type": "code",
   "execution_count": 147,
   "metadata": {
    "papermill": {
     "duration": 0.062775,
     "end_time": "2021-01-04T17:24:02.401387",
     "exception": false,
     "start_time": "2021-01-04T17:24:02.338612",
     "status": "completed"
    },
    "tags": []
   },
   "outputs": [
    {
     "name": "stdout",
     "output_type": "stream",
     "text": [
      "0.9305279534789896\n",
      "0.8262890347420543\n"
     ]
    }
   ],
   "source": [
    "print(ridge.score(X_train, y_train))\n",
    "print(ridge.score(X_test, y_test))\n"
   ]
  },
  {
   "cell_type": "markdown",
   "metadata": {
    "papermill": {
     "duration": 0.047951,
     "end_time": "2021-01-04T17:24:02.497066",
     "exception": false,
     "start_time": "2021-01-04T17:24:02.449115",
     "status": "completed"
    },
    "tags": []
   },
   "source": [
    "# Regularized Lasso Model"
   ]
  },
  {
   "cell_type": "code",
   "execution_count": 150,
   "metadata": {
    "papermill": {
     "duration": 0.066627,
     "end_time": "2021-01-04T17:24:02.612689",
     "exception": false,
     "start_time": "2021-01-04T17:24:02.546062",
     "status": "completed"
    },
    "tags": []
   },
   "outputs": [
    {
     "name": "stdout",
     "output_type": "stream",
     "text": [
      "Lasso model: [ 0.         -0.37901534 -0.         -1.68498783 -4.45214725 -0.65180688\n",
      "  1.75380449  0.         -0.          0.          0.93450875  0.02058749\n",
      " -0.          0.          0.          1.52460686  0.          0.\n",
      "  0.          0.         -0.         -1.58685771 -0.          0.\n",
      " -0.         -0.          0.         -0.         -0.         -0.36306985\n",
      " -0.05679969  0.          0.70551923 -0.         -0.         -0.\n",
      "  0.          0.         -0.          0.         -0.          0.296085\n",
      " -0.33250052 -0.         -0.          0.          0.          0.\n",
      "  0.          0.          0.          0.4581301  -0.         -0.47817871\n",
      " -0.          0.         -0.         -1.08602293 -1.29792166 -0.\n",
      "  0.19701899  0.24988988  0.         -0.35741273  0.         -0.07047063\n",
      " -0.         -0.          0.          0.          0.62525826  0.\n",
      "  0.          0.         -0.28413032  0.         -0.          0.14692749\n",
      "  0.          0.         -0.          0.         -0.         -0.\n",
      " -0.19143389  0.11176337 -0.          0.          0.          0.\n",
      " -0.         -0.         -0.11441114 -0.         -0.          0.\n",
      " -0.         -0.74992064  0.71819496]\n"
     ]
    }
   ],
   "source": [
    "lasso = Lasso(alpha=0.04)\n",
    "lasso.fit(X_train,y_train)\n",
    "print (\"Lasso model:\", (lasso.coef_))\n"
   ]
  },
  {
   "cell_type": "code",
   "execution_count": 151,
   "metadata": {
    "papermill": {
     "duration": 0.063081,
     "end_time": "2021-01-04T17:24:02.822919",
     "exception": false,
     "start_time": "2021-01-04T17:24:02.759838",
     "status": "completed"
    },
    "tags": []
   },
   "outputs": [
    {
     "name": "stdout",
     "output_type": "stream",
     "text": [
      "0.9089339918715351\n",
      "0.8562976670287069\n"
     ]
    }
   ],
   "source": [
    "print(lasso.score(X_train, y_train))\n",
    "print(lasso.score(X_test, y_test))\n"
   ]
  },
  {
   "cell_type": "markdown",
   "metadata": {},
   "source": [
    "# Búsqueda del hiperparámetro $\\alpha$"
   ]
  },
  {
   "cell_type": "code",
   "execution_count": 139,
   "metadata": {},
   "outputs": [],
   "source": [
    "from sklearn.model_selection import GridSearchCV"
   ]
  },
  {
   "cell_type": "code",
   "execution_count": 142,
   "metadata": {},
   "outputs": [
    {
     "data": {
      "text/plain": [
       "1.9952623149688795"
      ]
     },
     "execution_count": 142,
     "metadata": {},
     "output_type": "execute_result"
    }
   ],
   "source": [
    "10**(.3)"
   ]
  },
  {
   "cell_type": "code",
   "execution_count": 148,
   "metadata": {
    "scrolled": true
   },
   "outputs": [
    {
     "name": "stderr",
     "output_type": "stream",
     "text": [
      "/home/danielaguirre/miniconda3/envs/ds/lib/python3.10/site-packages/sklearn/linear_model/_coordinate_descent.py:631: ConvergenceWarning: Objective did not converge. You might want to increase the number of iterations, check the scale of the features or consider increasing regularisation. Duality gap: 3.087e+02, tolerance: 1.327e+00\n",
      "  model = cd_fast.enet_coordinate_descent(\n",
      "/home/danielaguirre/miniconda3/envs/ds/lib/python3.10/site-packages/sklearn/linear_model/_coordinate_descent.py:631: ConvergenceWarning: Objective did not converge. You might want to increase the number of iterations, check the scale of the features or consider increasing regularisation. Duality gap: 3.138e+02, tolerance: 1.276e+00\n",
      "  model = cd_fast.enet_coordinate_descent(\n",
      "/home/danielaguirre/miniconda3/envs/ds/lib/python3.10/site-packages/sklearn/linear_model/_coordinate_descent.py:631: ConvergenceWarning: Objective did not converge. You might want to increase the number of iterations, check the scale of the features or consider increasing regularisation. Duality gap: 4.339e+02, tolerance: 1.406e+00\n",
      "  model = cd_fast.enet_coordinate_descent(\n",
      "/home/danielaguirre/miniconda3/envs/ds/lib/python3.10/site-packages/sklearn/linear_model/_coordinate_descent.py:631: ConvergenceWarning: Objective did not converge. You might want to increase the number of iterations, check the scale of the features or consider increasing regularisation. Duality gap: 4.159e+02, tolerance: 1.418e+00\n",
      "  model = cd_fast.enet_coordinate_descent(\n",
      "/home/danielaguirre/miniconda3/envs/ds/lib/python3.10/site-packages/sklearn/linear_model/_coordinate_descent.py:631: ConvergenceWarning: Objective did not converge. You might want to increase the number of iterations, check the scale of the features or consider increasing regularisation. Duality gap: 3.735e+02, tolerance: 1.462e+00\n",
      "  model = cd_fast.enet_coordinate_descent(\n",
      "/home/danielaguirre/miniconda3/envs/ds/lib/python3.10/site-packages/sklearn/linear_model/_coordinate_descent.py:631: ConvergenceWarning: Objective did not converge. You might want to increase the number of iterations, check the scale of the features or consider increasing regularisation. Duality gap: 3.041e+02, tolerance: 1.327e+00\n",
      "  model = cd_fast.enet_coordinate_descent(\n",
      "/home/danielaguirre/miniconda3/envs/ds/lib/python3.10/site-packages/sklearn/linear_model/_coordinate_descent.py:631: ConvergenceWarning: Objective did not converge. You might want to increase the number of iterations, check the scale of the features or consider increasing regularisation. Duality gap: 3.061e+02, tolerance: 1.276e+00\n",
      "  model = cd_fast.enet_coordinate_descent(\n",
      "/home/danielaguirre/miniconda3/envs/ds/lib/python3.10/site-packages/sklearn/linear_model/_coordinate_descent.py:631: ConvergenceWarning: Objective did not converge. You might want to increase the number of iterations, check the scale of the features or consider increasing regularisation. Duality gap: 4.358e+02, tolerance: 1.406e+00\n",
      "  model = cd_fast.enet_coordinate_descent(\n",
      "/home/danielaguirre/miniconda3/envs/ds/lib/python3.10/site-packages/sklearn/linear_model/_coordinate_descent.py:631: ConvergenceWarning: Objective did not converge. You might want to increase the number of iterations, check the scale of the features or consider increasing regularisation. Duality gap: 4.143e+02, tolerance: 1.418e+00\n",
      "  model = cd_fast.enet_coordinate_descent(\n",
      "/home/danielaguirre/miniconda3/envs/ds/lib/python3.10/site-packages/sklearn/linear_model/_coordinate_descent.py:631: ConvergenceWarning: Objective did not converge. You might want to increase the number of iterations, check the scale of the features or consider increasing regularisation. Duality gap: 3.714e+02, tolerance: 1.462e+00\n",
      "  model = cd_fast.enet_coordinate_descent(\n",
      "/home/danielaguirre/miniconda3/envs/ds/lib/python3.10/site-packages/sklearn/linear_model/_coordinate_descent.py:631: ConvergenceWarning: Objective did not converge. You might want to increase the number of iterations, check the scale of the features or consider increasing regularisation. Duality gap: 2.998e+02, tolerance: 1.327e+00\n",
      "  model = cd_fast.enet_coordinate_descent(\n",
      "/home/danielaguirre/miniconda3/envs/ds/lib/python3.10/site-packages/sklearn/linear_model/_coordinate_descent.py:631: ConvergenceWarning: Objective did not converge. You might want to increase the number of iterations, check the scale of the features or consider increasing regularisation. Duality gap: 2.989e+02, tolerance: 1.276e+00\n",
      "  model = cd_fast.enet_coordinate_descent(\n",
      "/home/danielaguirre/miniconda3/envs/ds/lib/python3.10/site-packages/sklearn/linear_model/_coordinate_descent.py:631: ConvergenceWarning: Objective did not converge. You might want to increase the number of iterations, check the scale of the features or consider increasing regularisation. Duality gap: 4.364e+02, tolerance: 1.406e+00\n",
      "  model = cd_fast.enet_coordinate_descent(\n",
      "/home/danielaguirre/miniconda3/envs/ds/lib/python3.10/site-packages/sklearn/linear_model/_coordinate_descent.py:631: ConvergenceWarning: Objective did not converge. You might want to increase the number of iterations, check the scale of the features or consider increasing regularisation. Duality gap: 4.120e+02, tolerance: 1.418e+00\n",
      "  model = cd_fast.enet_coordinate_descent(\n",
      "/home/danielaguirre/miniconda3/envs/ds/lib/python3.10/site-packages/sklearn/linear_model/_coordinate_descent.py:631: ConvergenceWarning: Objective did not converge. You might want to increase the number of iterations, check the scale of the features or consider increasing regularisation. Duality gap: 3.683e+02, tolerance: 1.462e+00\n",
      "  model = cd_fast.enet_coordinate_descent(\n",
      "/home/danielaguirre/miniconda3/envs/ds/lib/python3.10/site-packages/sklearn/linear_model/_coordinate_descent.py:631: ConvergenceWarning: Objective did not converge. You might want to increase the number of iterations, check the scale of the features or consider increasing regularisation. Duality gap: 3.018e+02, tolerance: 1.327e+00\n",
      "  model = cd_fast.enet_coordinate_descent(\n",
      "/home/danielaguirre/miniconda3/envs/ds/lib/python3.10/site-packages/sklearn/linear_model/_coordinate_descent.py:631: ConvergenceWarning: Objective did not converge. You might want to increase the number of iterations, check the scale of the features or consider increasing regularisation. Duality gap: 2.877e+02, tolerance: 1.276e+00\n",
      "  model = cd_fast.enet_coordinate_descent(\n",
      "/home/danielaguirre/miniconda3/envs/ds/lib/python3.10/site-packages/sklearn/linear_model/_coordinate_descent.py:631: ConvergenceWarning: Objective did not converge. You might want to increase the number of iterations, check the scale of the features or consider increasing regularisation. Duality gap: 4.363e+02, tolerance: 1.406e+00\n",
      "  model = cd_fast.enet_coordinate_descent(\n",
      "/home/danielaguirre/miniconda3/envs/ds/lib/python3.10/site-packages/sklearn/linear_model/_coordinate_descent.py:631: ConvergenceWarning: Objective did not converge. You might want to increase the number of iterations, check the scale of the features or consider increasing regularisation. Duality gap: 4.073e+02, tolerance: 1.418e+00\n",
      "  model = cd_fast.enet_coordinate_descent(\n",
      "/home/danielaguirre/miniconda3/envs/ds/lib/python3.10/site-packages/sklearn/linear_model/_coordinate_descent.py:631: ConvergenceWarning: Objective did not converge. You might want to increase the number of iterations, check the scale of the features or consider increasing regularisation. Duality gap: 3.648e+02, tolerance: 1.462e+00\n",
      "  model = cd_fast.enet_coordinate_descent(\n",
      "/home/danielaguirre/miniconda3/envs/ds/lib/python3.10/site-packages/sklearn/linear_model/_coordinate_descent.py:631: ConvergenceWarning: Objective did not converge. You might want to increase the number of iterations, check the scale of the features or consider increasing regularisation. Duality gap: 3.045e+02, tolerance: 1.327e+00\n",
      "  model = cd_fast.enet_coordinate_descent(\n",
      "/home/danielaguirre/miniconda3/envs/ds/lib/python3.10/site-packages/sklearn/linear_model/_coordinate_descent.py:631: ConvergenceWarning: Objective did not converge. You might want to increase the number of iterations, check the scale of the features or consider increasing regularisation. Duality gap: 2.760e+02, tolerance: 1.276e+00\n",
      "  model = cd_fast.enet_coordinate_descent(\n",
      "/home/danielaguirre/miniconda3/envs/ds/lib/python3.10/site-packages/sklearn/linear_model/_coordinate_descent.py:631: ConvergenceWarning: Objective did not converge. You might want to increase the number of iterations, check the scale of the features or consider increasing regularisation. Duality gap: 4.354e+02, tolerance: 1.406e+00\n",
      "  model = cd_fast.enet_coordinate_descent(\n",
      "/home/danielaguirre/miniconda3/envs/ds/lib/python3.10/site-packages/sklearn/linear_model/_coordinate_descent.py:631: ConvergenceWarning: Objective did not converge. You might want to increase the number of iterations, check the scale of the features or consider increasing regularisation. Duality gap: 4.026e+02, tolerance: 1.418e+00\n",
      "  model = cd_fast.enet_coordinate_descent(\n",
      "/home/danielaguirre/miniconda3/envs/ds/lib/python3.10/site-packages/sklearn/linear_model/_coordinate_descent.py:631: ConvergenceWarning: Objective did not converge. You might want to increase the number of iterations, check the scale of the features or consider increasing regularisation. Duality gap: 3.606e+02, tolerance: 1.462e+00\n",
      "  model = cd_fast.enet_coordinate_descent(\n",
      "/home/danielaguirre/miniconda3/envs/ds/lib/python3.10/site-packages/sklearn/linear_model/_coordinate_descent.py:631: ConvergenceWarning: Objective did not converge. You might want to increase the number of iterations, check the scale of the features or consider increasing regularisation. Duality gap: 3.101e+02, tolerance: 1.327e+00\n",
      "  model = cd_fast.enet_coordinate_descent(\n",
      "/home/danielaguirre/miniconda3/envs/ds/lib/python3.10/site-packages/sklearn/linear_model/_coordinate_descent.py:631: ConvergenceWarning: Objective did not converge. You might want to increase the number of iterations, check the scale of the features or consider increasing regularisation. Duality gap: 2.625e+02, tolerance: 1.276e+00\n",
      "  model = cd_fast.enet_coordinate_descent(\n",
      "/home/danielaguirre/miniconda3/envs/ds/lib/python3.10/site-packages/sklearn/linear_model/_coordinate_descent.py:631: ConvergenceWarning: Objective did not converge. You might want to increase the number of iterations, check the scale of the features or consider increasing regularisation. Duality gap: 4.354e+02, tolerance: 1.406e+00\n",
      "  model = cd_fast.enet_coordinate_descent(\n",
      "/home/danielaguirre/miniconda3/envs/ds/lib/python3.10/site-packages/sklearn/linear_model/_coordinate_descent.py:631: ConvergenceWarning: Objective did not converge. You might want to increase the number of iterations, check the scale of the features or consider increasing regularisation. Duality gap: 3.960e+02, tolerance: 1.418e+00\n",
      "  model = cd_fast.enet_coordinate_descent(\n",
      "/home/danielaguirre/miniconda3/envs/ds/lib/python3.10/site-packages/sklearn/linear_model/_coordinate_descent.py:631: ConvergenceWarning: Objective did not converge. You might want to increase the number of iterations, check the scale of the features or consider increasing regularisation. Duality gap: 3.538e+02, tolerance: 1.462e+00\n",
      "  model = cd_fast.enet_coordinate_descent(\n",
      "/home/danielaguirre/miniconda3/envs/ds/lib/python3.10/site-packages/sklearn/linear_model/_coordinate_descent.py:631: ConvergenceWarning: Objective did not converge. You might want to increase the number of iterations, check the scale of the features or consider increasing regularisation. Duality gap: 3.094e+02, tolerance: 1.327e+00\n",
      "  model = cd_fast.enet_coordinate_descent(\n",
      "/home/danielaguirre/miniconda3/envs/ds/lib/python3.10/site-packages/sklearn/linear_model/_coordinate_descent.py:631: ConvergenceWarning: Objective did not converge. You might want to increase the number of iterations, check the scale of the features or consider increasing regularisation. Duality gap: 2.249e+02, tolerance: 1.276e+00\n",
      "  model = cd_fast.enet_coordinate_descent(\n",
      "/home/danielaguirre/miniconda3/envs/ds/lib/python3.10/site-packages/sklearn/linear_model/_coordinate_descent.py:631: ConvergenceWarning: Objective did not converge. You might want to increase the number of iterations, check the scale of the features or consider increasing regularisation. Duality gap: 4.286e+02, tolerance: 1.406e+00\n",
      "  model = cd_fast.enet_coordinate_descent(\n",
      "/home/danielaguirre/miniconda3/envs/ds/lib/python3.10/site-packages/sklearn/linear_model/_coordinate_descent.py:631: ConvergenceWarning: Objective did not converge. You might want to increase the number of iterations, check the scale of the features or consider increasing regularisation. Duality gap: 3.895e+02, tolerance: 1.418e+00\n",
      "  model = cd_fast.enet_coordinate_descent(\n",
      "/home/danielaguirre/miniconda3/envs/ds/lib/python3.10/site-packages/sklearn/linear_model/_coordinate_descent.py:631: ConvergenceWarning: Objective did not converge. You might want to increase the number of iterations, check the scale of the features or consider increasing regularisation. Duality gap: 3.470e+02, tolerance: 1.462e+00\n",
      "  model = cd_fast.enet_coordinate_descent(\n",
      "/home/danielaguirre/miniconda3/envs/ds/lib/python3.10/site-packages/sklearn/linear_model/_coordinate_descent.py:631: ConvergenceWarning: Objective did not converge. You might want to increase the number of iterations, check the scale of the features or consider increasing regularisation. Duality gap: 3.081e+02, tolerance: 1.327e+00\n",
      "  model = cd_fast.enet_coordinate_descent(\n",
      "/home/danielaguirre/miniconda3/envs/ds/lib/python3.10/site-packages/sklearn/linear_model/_coordinate_descent.py:631: ConvergenceWarning: Objective did not converge. You might want to increase the number of iterations, check the scale of the features or consider increasing regularisation. Duality gap: 1.853e+02, tolerance: 1.276e+00\n",
      "  model = cd_fast.enet_coordinate_descent(\n",
      "/home/danielaguirre/miniconda3/envs/ds/lib/python3.10/site-packages/sklearn/linear_model/_coordinate_descent.py:631: ConvergenceWarning: Objective did not converge. You might want to increase the number of iterations, check the scale of the features or consider increasing regularisation. Duality gap: 4.214e+02, tolerance: 1.406e+00\n",
      "  model = cd_fast.enet_coordinate_descent(\n",
      "/home/danielaguirre/miniconda3/envs/ds/lib/python3.10/site-packages/sklearn/linear_model/_coordinate_descent.py:631: ConvergenceWarning: Objective did not converge. You might want to increase the number of iterations, check the scale of the features or consider increasing regularisation. Duality gap: 3.859e+02, tolerance: 1.418e+00\n",
      "  model = cd_fast.enet_coordinate_descent(\n",
      "/home/danielaguirre/miniconda3/envs/ds/lib/python3.10/site-packages/sklearn/linear_model/_coordinate_descent.py:631: ConvergenceWarning: Objective did not converge. You might want to increase the number of iterations, check the scale of the features or consider increasing regularisation. Duality gap: 3.373e+02, tolerance: 1.462e+00\n",
      "  model = cd_fast.enet_coordinate_descent(\n",
      "/home/danielaguirre/miniconda3/envs/ds/lib/python3.10/site-packages/sklearn/linear_model/_coordinate_descent.py:631: ConvergenceWarning: Objective did not converge. You might want to increase the number of iterations, check the scale of the features or consider increasing regularisation. Duality gap: 3.082e+02, tolerance: 1.327e+00\n",
      "  model = cd_fast.enet_coordinate_descent(\n",
      "/home/danielaguirre/miniconda3/envs/ds/lib/python3.10/site-packages/sklearn/linear_model/_coordinate_descent.py:631: ConvergenceWarning: Objective did not converge. You might want to increase the number of iterations, check the scale of the features or consider increasing regularisation. Duality gap: 1.407e+02, tolerance: 1.276e+00\n",
      "  model = cd_fast.enet_coordinate_descent(\n",
      "/home/danielaguirre/miniconda3/envs/ds/lib/python3.10/site-packages/sklearn/linear_model/_coordinate_descent.py:631: ConvergenceWarning: Objective did not converge. You might want to increase the number of iterations, check the scale of the features or consider increasing regularisation. Duality gap: 4.086e+02, tolerance: 1.406e+00\n",
      "  model = cd_fast.enet_coordinate_descent(\n",
      "/home/danielaguirre/miniconda3/envs/ds/lib/python3.10/site-packages/sklearn/linear_model/_coordinate_descent.py:631: ConvergenceWarning: Objective did not converge. You might want to increase the number of iterations, check the scale of the features or consider increasing regularisation. Duality gap: 3.777e+02, tolerance: 1.418e+00\n",
      "  model = cd_fast.enet_coordinate_descent(\n",
      "/home/danielaguirre/miniconda3/envs/ds/lib/python3.10/site-packages/sklearn/linear_model/_coordinate_descent.py:631: ConvergenceWarning: Objective did not converge. You might want to increase the number of iterations, check the scale of the features or consider increasing regularisation. Duality gap: 3.164e+02, tolerance: 1.462e+00\n",
      "  model = cd_fast.enet_coordinate_descent(\n",
      "/home/danielaguirre/miniconda3/envs/ds/lib/python3.10/site-packages/sklearn/linear_model/_coordinate_descent.py:631: ConvergenceWarning: Objective did not converge. You might want to increase the number of iterations, check the scale of the features or consider increasing regularisation. Duality gap: 2.913e+02, tolerance: 1.327e+00\n",
      "  model = cd_fast.enet_coordinate_descent(\n",
      "/home/danielaguirre/miniconda3/envs/ds/lib/python3.10/site-packages/sklearn/linear_model/_coordinate_descent.py:631: ConvergenceWarning: Objective did not converge. You might want to increase the number of iterations, check the scale of the features or consider increasing regularisation. Duality gap: 1.365e+02, tolerance: 1.276e+00\n",
      "  model = cd_fast.enet_coordinate_descent(\n",
      "/home/danielaguirre/miniconda3/envs/ds/lib/python3.10/site-packages/sklearn/linear_model/_coordinate_descent.py:631: ConvergenceWarning: Objective did not converge. You might want to increase the number of iterations, check the scale of the features or consider increasing regularisation. Duality gap: 4.010e+02, tolerance: 1.406e+00\n",
      "  model = cd_fast.enet_coordinate_descent(\n",
      "/home/danielaguirre/miniconda3/envs/ds/lib/python3.10/site-packages/sklearn/linear_model/_coordinate_descent.py:631: ConvergenceWarning: Objective did not converge. You might want to increase the number of iterations, check the scale of the features or consider increasing regularisation. Duality gap: 3.676e+02, tolerance: 1.418e+00\n",
      "  model = cd_fast.enet_coordinate_descent(\n",
      "/home/danielaguirre/miniconda3/envs/ds/lib/python3.10/site-packages/sklearn/linear_model/_coordinate_descent.py:631: ConvergenceWarning: Objective did not converge. You might want to increase the number of iterations, check the scale of the features or consider increasing regularisation. Duality gap: 2.748e+02, tolerance: 1.462e+00\n",
      "  model = cd_fast.enet_coordinate_descent(\n",
      "/home/danielaguirre/miniconda3/envs/ds/lib/python3.10/site-packages/sklearn/linear_model/_coordinate_descent.py:631: ConvergenceWarning: Objective did not converge. You might want to increase the number of iterations, check the scale of the features or consider increasing regularisation. Duality gap: 2.630e+02, tolerance: 1.327e+00\n",
      "  model = cd_fast.enet_coordinate_descent(\n",
      "/home/danielaguirre/miniconda3/envs/ds/lib/python3.10/site-packages/sklearn/linear_model/_coordinate_descent.py:631: ConvergenceWarning: Objective did not converge. You might want to increase the number of iterations, check the scale of the features or consider increasing regularisation. Duality gap: 1.515e+02, tolerance: 1.276e+00\n",
      "  model = cd_fast.enet_coordinate_descent(\n",
      "/home/danielaguirre/miniconda3/envs/ds/lib/python3.10/site-packages/sklearn/linear_model/_coordinate_descent.py:631: ConvergenceWarning: Objective did not converge. You might want to increase the number of iterations, check the scale of the features or consider increasing regularisation. Duality gap: 3.501e+02, tolerance: 1.406e+00\n",
      "  model = cd_fast.enet_coordinate_descent(\n",
      "/home/danielaguirre/miniconda3/envs/ds/lib/python3.10/site-packages/sklearn/linear_model/_coordinate_descent.py:631: ConvergenceWarning: Objective did not converge. You might want to increase the number of iterations, check the scale of the features or consider increasing regularisation. Duality gap: 3.187e+02, tolerance: 1.418e+00\n",
      "  model = cd_fast.enet_coordinate_descent(\n",
      "/home/danielaguirre/miniconda3/envs/ds/lib/python3.10/site-packages/sklearn/linear_model/_coordinate_descent.py:631: ConvergenceWarning: Objective did not converge. You might want to increase the number of iterations, check the scale of the features or consider increasing regularisation. Duality gap: 2.336e+02, tolerance: 1.462e+00\n",
      "  model = cd_fast.enet_coordinate_descent(\n",
      "/home/danielaguirre/miniconda3/envs/ds/lib/python3.10/site-packages/sklearn/linear_model/_coordinate_descent.py:631: ConvergenceWarning: Objective did not converge. You might want to increase the number of iterations, check the scale of the features or consider increasing regularisation. Duality gap: 1.748e+02, tolerance: 1.327e+00\n",
      "  model = cd_fast.enet_coordinate_descent(\n",
      "/home/danielaguirre/miniconda3/envs/ds/lib/python3.10/site-packages/sklearn/linear_model/_coordinate_descent.py:631: ConvergenceWarning: Objective did not converge. You might want to increase the number of iterations, check the scale of the features or consider increasing regularisation. Duality gap: 1.200e+02, tolerance: 1.276e+00\n",
      "  model = cd_fast.enet_coordinate_descent(\n",
      "/home/danielaguirre/miniconda3/envs/ds/lib/python3.10/site-packages/sklearn/linear_model/_coordinate_descent.py:631: ConvergenceWarning: Objective did not converge. You might want to increase the number of iterations, check the scale of the features or consider increasing regularisation. Duality gap: 3.038e+02, tolerance: 1.406e+00\n",
      "  model = cd_fast.enet_coordinate_descent(\n",
      "/home/danielaguirre/miniconda3/envs/ds/lib/python3.10/site-packages/sklearn/linear_model/_coordinate_descent.py:631: ConvergenceWarning: Objective did not converge. You might want to increase the number of iterations, check the scale of the features or consider increasing regularisation. Duality gap: 2.798e+02, tolerance: 1.418e+00\n",
      "  model = cd_fast.enet_coordinate_descent(\n",
      "/home/danielaguirre/miniconda3/envs/ds/lib/python3.10/site-packages/sklearn/linear_model/_coordinate_descent.py:631: ConvergenceWarning: Objective did not converge. You might want to increase the number of iterations, check the scale of the features or consider increasing regularisation. Duality gap: 1.934e+02, tolerance: 1.462e+00\n",
      "  model = cd_fast.enet_coordinate_descent(\n",
      "/home/danielaguirre/miniconda3/envs/ds/lib/python3.10/site-packages/sklearn/linear_model/_coordinate_descent.py:631: ConvergenceWarning: Objective did not converge. You might want to increase the number of iterations, check the scale of the features or consider increasing regularisation. Duality gap: 1.028e+02, tolerance: 1.327e+00\n",
      "  model = cd_fast.enet_coordinate_descent(\n",
      "/home/danielaguirre/miniconda3/envs/ds/lib/python3.10/site-packages/sklearn/linear_model/_coordinate_descent.py:631: ConvergenceWarning: Objective did not converge. You might want to increase the number of iterations, check the scale of the features or consider increasing regularisation. Duality gap: 9.811e+01, tolerance: 1.276e+00\n",
      "  model = cd_fast.enet_coordinate_descent(\n",
      "/home/danielaguirre/miniconda3/envs/ds/lib/python3.10/site-packages/sklearn/linear_model/_coordinate_descent.py:631: ConvergenceWarning: Objective did not converge. You might want to increase the number of iterations, check the scale of the features or consider increasing regularisation. Duality gap: 2.094e+02, tolerance: 1.406e+00\n",
      "  model = cd_fast.enet_coordinate_descent(\n",
      "/home/danielaguirre/miniconda3/envs/ds/lib/python3.10/site-packages/sklearn/linear_model/_coordinate_descent.py:631: ConvergenceWarning: Objective did not converge. You might want to increase the number of iterations, check the scale of the features or consider increasing regularisation. Duality gap: 2.457e+02, tolerance: 1.418e+00\n",
      "  model = cd_fast.enet_coordinate_descent(\n",
      "/home/danielaguirre/miniconda3/envs/ds/lib/python3.10/site-packages/sklearn/linear_model/_coordinate_descent.py:631: ConvergenceWarning: Objective did not converge. You might want to increase the number of iterations, check the scale of the features or consider increasing regularisation. Duality gap: 1.816e+02, tolerance: 1.462e+00\n",
      "  model = cd_fast.enet_coordinate_descent(\n",
      "/home/danielaguirre/miniconda3/envs/ds/lib/python3.10/site-packages/sklearn/linear_model/_coordinate_descent.py:631: ConvergenceWarning: Objective did not converge. You might want to increase the number of iterations, check the scale of the features or consider increasing regularisation. Duality gap: 8.278e+01, tolerance: 1.327e+00\n",
      "  model = cd_fast.enet_coordinate_descent(\n",
      "/home/danielaguirre/miniconda3/envs/ds/lib/python3.10/site-packages/sklearn/linear_model/_coordinate_descent.py:631: ConvergenceWarning: Objective did not converge. You might want to increase the number of iterations, check the scale of the features or consider increasing regularisation. Duality gap: 1.132e+02, tolerance: 1.276e+00\n",
      "  model = cd_fast.enet_coordinate_descent(\n",
      "/home/danielaguirre/miniconda3/envs/ds/lib/python3.10/site-packages/sklearn/linear_model/_coordinate_descent.py:631: ConvergenceWarning: Objective did not converge. You might want to increase the number of iterations, check the scale of the features or consider increasing regularisation. Duality gap: 1.371e+02, tolerance: 1.406e+00\n",
      "  model = cd_fast.enet_coordinate_descent(\n",
      "/home/danielaguirre/miniconda3/envs/ds/lib/python3.10/site-packages/sklearn/linear_model/_coordinate_descent.py:631: ConvergenceWarning: Objective did not converge. You might want to increase the number of iterations, check the scale of the features or consider increasing regularisation. Duality gap: 1.648e+02, tolerance: 1.418e+00\n",
      "  model = cd_fast.enet_coordinate_descent(\n",
      "/home/danielaguirre/miniconda3/envs/ds/lib/python3.10/site-packages/sklearn/linear_model/_coordinate_descent.py:631: ConvergenceWarning: Objective did not converge. You might want to increase the number of iterations, check the scale of the features or consider increasing regularisation. Duality gap: 1.742e+02, tolerance: 1.462e+00\n",
      "  model = cd_fast.enet_coordinate_descent(\n",
      "/home/danielaguirre/miniconda3/envs/ds/lib/python3.10/site-packages/sklearn/linear_model/_coordinate_descent.py:631: ConvergenceWarning: Objective did not converge. You might want to increase the number of iterations, check the scale of the features or consider increasing regularisation. Duality gap: 1.516e+02, tolerance: 1.327e+00\n",
      "  model = cd_fast.enet_coordinate_descent(\n",
      "/home/danielaguirre/miniconda3/envs/ds/lib/python3.10/site-packages/sklearn/linear_model/_coordinate_descent.py:631: ConvergenceWarning: Objective did not converge. You might want to increase the number of iterations, check the scale of the features or consider increasing regularisation. Duality gap: 1.137e+02, tolerance: 1.276e+00\n",
      "  model = cd_fast.enet_coordinate_descent(\n",
      "/home/danielaguirre/miniconda3/envs/ds/lib/python3.10/site-packages/sklearn/linear_model/_coordinate_descent.py:631: ConvergenceWarning: Objective did not converge. You might want to increase the number of iterations, check the scale of the features or consider increasing regularisation. Duality gap: 2.504e+02, tolerance: 1.406e+00\n",
      "  model = cd_fast.enet_coordinate_descent(\n",
      "/home/danielaguirre/miniconda3/envs/ds/lib/python3.10/site-packages/sklearn/linear_model/_coordinate_descent.py:631: ConvergenceWarning: Objective did not converge. You might want to increase the number of iterations, check the scale of the features or consider increasing regularisation. Duality gap: 1.429e+02, tolerance: 1.418e+00\n",
      "  model = cd_fast.enet_coordinate_descent(\n",
      "/home/danielaguirre/miniconda3/envs/ds/lib/python3.10/site-packages/sklearn/linear_model/_coordinate_descent.py:631: ConvergenceWarning: Objective did not converge. You might want to increase the number of iterations, check the scale of the features or consider increasing regularisation. Duality gap: 1.014e+02, tolerance: 1.462e+00\n",
      "  model = cd_fast.enet_coordinate_descent(\n",
      "/home/danielaguirre/miniconda3/envs/ds/lib/python3.10/site-packages/sklearn/linear_model/_coordinate_descent.py:631: ConvergenceWarning: Objective did not converge. You might want to increase the number of iterations, check the scale of the features or consider increasing regularisation. Duality gap: 9.108e+01, tolerance: 1.327e+00\n",
      "  model = cd_fast.enet_coordinate_descent(\n",
      "/home/danielaguirre/miniconda3/envs/ds/lib/python3.10/site-packages/sklearn/linear_model/_coordinate_descent.py:631: ConvergenceWarning: Objective did not converge. You might want to increase the number of iterations, check the scale of the features or consider increasing regularisation. Duality gap: 6.757e+01, tolerance: 1.276e+00\n",
      "  model = cd_fast.enet_coordinate_descent(\n",
      "/home/danielaguirre/miniconda3/envs/ds/lib/python3.10/site-packages/sklearn/linear_model/_coordinate_descent.py:631: ConvergenceWarning: Objective did not converge. You might want to increase the number of iterations, check the scale of the features or consider increasing regularisation. Duality gap: 3.187e+02, tolerance: 1.406e+00\n",
      "  model = cd_fast.enet_coordinate_descent(\n",
      "/home/danielaguirre/miniconda3/envs/ds/lib/python3.10/site-packages/sklearn/linear_model/_coordinate_descent.py:631: ConvergenceWarning: Objective did not converge. You might want to increase the number of iterations, check the scale of the features or consider increasing regularisation. Duality gap: 1.335e+02, tolerance: 1.418e+00\n",
      "  model = cd_fast.enet_coordinate_descent(\n",
      "/home/danielaguirre/miniconda3/envs/ds/lib/python3.10/site-packages/sklearn/linear_model/_coordinate_descent.py:631: ConvergenceWarning: Objective did not converge. You might want to increase the number of iterations, check the scale of the features or consider increasing regularisation. Duality gap: 8.702e+01, tolerance: 1.462e+00\n",
      "  model = cd_fast.enet_coordinate_descent(\n",
      "/home/danielaguirre/miniconda3/envs/ds/lib/python3.10/site-packages/sklearn/linear_model/_coordinate_descent.py:631: ConvergenceWarning: Objective did not converge. You might want to increase the number of iterations, check the scale of the features or consider increasing regularisation. Duality gap: 9.042e+01, tolerance: 1.327e+00\n",
      "  model = cd_fast.enet_coordinate_descent(\n",
      "/home/danielaguirre/miniconda3/envs/ds/lib/python3.10/site-packages/sklearn/linear_model/_coordinate_descent.py:631: ConvergenceWarning: Objective did not converge. You might want to increase the number of iterations, check the scale of the features or consider increasing regularisation. Duality gap: 6.209e+01, tolerance: 1.276e+00\n",
      "  model = cd_fast.enet_coordinate_descent(\n",
      "/home/danielaguirre/miniconda3/envs/ds/lib/python3.10/site-packages/sklearn/linear_model/_coordinate_descent.py:631: ConvergenceWarning: Objective did not converge. You might want to increase the number of iterations, check the scale of the features or consider increasing regularisation. Duality gap: 2.119e+02, tolerance: 1.406e+00\n",
      "  model = cd_fast.enet_coordinate_descent(\n",
      "/home/danielaguirre/miniconda3/envs/ds/lib/python3.10/site-packages/sklearn/linear_model/_coordinate_descent.py:631: ConvergenceWarning: Objective did not converge. You might want to increase the number of iterations, check the scale of the features or consider increasing regularisation. Duality gap: 5.739e+01, tolerance: 1.418e+00\n",
      "  model = cd_fast.enet_coordinate_descent(\n",
      "/home/danielaguirre/miniconda3/envs/ds/lib/python3.10/site-packages/sklearn/linear_model/_coordinate_descent.py:631: ConvergenceWarning: Objective did not converge. You might want to increase the number of iterations, check the scale of the features or consider increasing regularisation. Duality gap: 6.913e+01, tolerance: 1.462e+00\n",
      "  model = cd_fast.enet_coordinate_descent(\n",
      "/home/danielaguirre/miniconda3/envs/ds/lib/python3.10/site-packages/sklearn/linear_model/_coordinate_descent.py:631: ConvergenceWarning: Objective did not converge. You might want to increase the number of iterations, check the scale of the features or consider increasing regularisation. Duality gap: 8.165e+01, tolerance: 1.327e+00\n",
      "  model = cd_fast.enet_coordinate_descent(\n",
      "/home/danielaguirre/miniconda3/envs/ds/lib/python3.10/site-packages/sklearn/linear_model/_coordinate_descent.py:631: ConvergenceWarning: Objective did not converge. You might want to increase the number of iterations, check the scale of the features or consider increasing regularisation. Duality gap: 3.820e+01, tolerance: 1.276e+00\n",
      "  model = cd_fast.enet_coordinate_descent(\n",
      "/home/danielaguirre/miniconda3/envs/ds/lib/python3.10/site-packages/sklearn/linear_model/_coordinate_descent.py:631: ConvergenceWarning: Objective did not converge. You might want to increase the number of iterations, check the scale of the features or consider increasing regularisation. Duality gap: 6.685e+01, tolerance: 1.406e+00\n",
      "  model = cd_fast.enet_coordinate_descent(\n",
      "/home/danielaguirre/miniconda3/envs/ds/lib/python3.10/site-packages/sklearn/linear_model/_coordinate_descent.py:631: ConvergenceWarning: Objective did not converge. You might want to increase the number of iterations, check the scale of the features or consider increasing regularisation. Duality gap: 3.180e+01, tolerance: 1.418e+00\n",
      "  model = cd_fast.enet_coordinate_descent(\n",
      "/home/danielaguirre/miniconda3/envs/ds/lib/python3.10/site-packages/sklearn/linear_model/_coordinate_descent.py:631: ConvergenceWarning: Objective did not converge. You might want to increase the number of iterations, check the scale of the features or consider increasing regularisation. Duality gap: 4.023e+01, tolerance: 1.462e+00\n",
      "  model = cd_fast.enet_coordinate_descent(\n",
      "/home/danielaguirre/miniconda3/envs/ds/lib/python3.10/site-packages/sklearn/linear_model/_coordinate_descent.py:631: ConvergenceWarning: Objective did not converge. You might want to increase the number of iterations, check the scale of the features or consider increasing regularisation. Duality gap: 2.721e+01, tolerance: 1.327e+00\n",
      "  model = cd_fast.enet_coordinate_descent(\n",
      "/home/danielaguirre/miniconda3/envs/ds/lib/python3.10/site-packages/sklearn/linear_model/_coordinate_descent.py:631: ConvergenceWarning: Objective did not converge. You might want to increase the number of iterations, check the scale of the features or consider increasing regularisation. Duality gap: 2.941e+01, tolerance: 1.276e+00\n",
      "  model = cd_fast.enet_coordinate_descent(\n",
      "/home/danielaguirre/miniconda3/envs/ds/lib/python3.10/site-packages/sklearn/linear_model/_coordinate_descent.py:631: ConvergenceWarning: Objective did not converge. You might want to increase the number of iterations, check the scale of the features or consider increasing regularisation. Duality gap: 8.043e+01, tolerance: 1.406e+00\n",
      "  model = cd_fast.enet_coordinate_descent(\n",
      "/home/danielaguirre/miniconda3/envs/ds/lib/python3.10/site-packages/sklearn/linear_model/_coordinate_descent.py:631: ConvergenceWarning: Objective did not converge. You might want to increase the number of iterations, check the scale of the features or consider increasing regularisation. Duality gap: 3.036e+01, tolerance: 1.418e+00\n",
      "  model = cd_fast.enet_coordinate_descent(\n",
      "/home/danielaguirre/miniconda3/envs/ds/lib/python3.10/site-packages/sklearn/linear_model/_coordinate_descent.py:631: ConvergenceWarning: Objective did not converge. You might want to increase the number of iterations, check the scale of the features or consider increasing regularisation. Duality gap: 1.635e+01, tolerance: 1.462e+00\n",
      "  model = cd_fast.enet_coordinate_descent(\n",
      "/home/danielaguirre/miniconda3/envs/ds/lib/python3.10/site-packages/sklearn/linear_model/_coordinate_descent.py:631: ConvergenceWarning: Objective did not converge. You might want to increase the number of iterations, check the scale of the features or consider increasing regularisation. Duality gap: 2.717e+01, tolerance: 1.327e+00\n",
      "  model = cd_fast.enet_coordinate_descent(\n",
      "/home/danielaguirre/miniconda3/envs/ds/lib/python3.10/site-packages/sklearn/linear_model/_coordinate_descent.py:631: ConvergenceWarning: Objective did not converge. You might want to increase the number of iterations, check the scale of the features or consider increasing regularisation. Duality gap: 4.155e+01, tolerance: 1.276e+00\n",
      "  model = cd_fast.enet_coordinate_descent(\n",
      "/home/danielaguirre/miniconda3/envs/ds/lib/python3.10/site-packages/sklearn/linear_model/_coordinate_descent.py:631: ConvergenceWarning: Objective did not converge. You might want to increase the number of iterations, check the scale of the features or consider increasing regularisation. Duality gap: 5.309e+01, tolerance: 1.406e+00\n",
      "  model = cd_fast.enet_coordinate_descent(\n",
      "/home/danielaguirre/miniconda3/envs/ds/lib/python3.10/site-packages/sklearn/linear_model/_coordinate_descent.py:631: ConvergenceWarning: Objective did not converge. You might want to increase the number of iterations, check the scale of the features or consider increasing regularisation. Duality gap: 3.293e+01, tolerance: 1.418e+00\n",
      "  model = cd_fast.enet_coordinate_descent(\n",
      "/home/danielaguirre/miniconda3/envs/ds/lib/python3.10/site-packages/sklearn/linear_model/_coordinate_descent.py:631: ConvergenceWarning: Objective did not converge. You might want to increase the number of iterations, check the scale of the features or consider increasing regularisation. Duality gap: 2.417e+01, tolerance: 1.462e+00\n",
      "  model = cd_fast.enet_coordinate_descent(\n",
      "/home/danielaguirre/miniconda3/envs/ds/lib/python3.10/site-packages/sklearn/linear_model/_coordinate_descent.py:631: ConvergenceWarning: Objective did not converge. You might want to increase the number of iterations, check the scale of the features or consider increasing regularisation. Duality gap: 2.172e+01, tolerance: 1.327e+00\n",
      "  model = cd_fast.enet_coordinate_descent(\n",
      "/home/danielaguirre/miniconda3/envs/ds/lib/python3.10/site-packages/sklearn/linear_model/_coordinate_descent.py:631: ConvergenceWarning: Objective did not converge. You might want to increase the number of iterations, check the scale of the features or consider increasing regularisation. Duality gap: 3.698e+01, tolerance: 1.276e+00\n",
      "  model = cd_fast.enet_coordinate_descent(\n",
      "/home/danielaguirre/miniconda3/envs/ds/lib/python3.10/site-packages/sklearn/linear_model/_coordinate_descent.py:631: ConvergenceWarning: Objective did not converge. You might want to increase the number of iterations, check the scale of the features or consider increasing regularisation. Duality gap: 4.296e+01, tolerance: 1.406e+00\n",
      "  model = cd_fast.enet_coordinate_descent(\n",
      "/home/danielaguirre/miniconda3/envs/ds/lib/python3.10/site-packages/sklearn/linear_model/_coordinate_descent.py:631: ConvergenceWarning: Objective did not converge. You might want to increase the number of iterations, check the scale of the features or consider increasing regularisation. Duality gap: 2.556e+01, tolerance: 1.418e+00\n",
      "  model = cd_fast.enet_coordinate_descent(\n",
      "/home/danielaguirre/miniconda3/envs/ds/lib/python3.10/site-packages/sklearn/linear_model/_coordinate_descent.py:631: ConvergenceWarning: Objective did not converge. You might want to increase the number of iterations, check the scale of the features or consider increasing regularisation. Duality gap: 2.536e+01, tolerance: 1.462e+00\n",
      "  model = cd_fast.enet_coordinate_descent(\n",
      "/home/danielaguirre/miniconda3/envs/ds/lib/python3.10/site-packages/sklearn/linear_model/_coordinate_descent.py:631: ConvergenceWarning: Objective did not converge. You might want to increase the number of iterations, check the scale of the features or consider increasing regularisation. Duality gap: 8.037e+00, tolerance: 1.327e+00\n",
      "  model = cd_fast.enet_coordinate_descent(\n",
      "/home/danielaguirre/miniconda3/envs/ds/lib/python3.10/site-packages/sklearn/linear_model/_coordinate_descent.py:631: ConvergenceWarning: Objective did not converge. You might want to increase the number of iterations, check the scale of the features or consider increasing regularisation. Duality gap: 1.575e+01, tolerance: 1.406e+00\n",
      "  model = cd_fast.enet_coordinate_descent(\n",
      "/home/danielaguirre/miniconda3/envs/ds/lib/python3.10/site-packages/sklearn/linear_model/_coordinate_descent.py:631: ConvergenceWarning: Objective did not converge. You might want to increase the number of iterations, check the scale of the features or consider increasing regularisation. Duality gap: 2.125e+01, tolerance: 1.462e+00\n",
      "  model = cd_fast.enet_coordinate_descent(\n",
      "/home/danielaguirre/miniconda3/envs/ds/lib/python3.10/site-packages/sklearn/linear_model/_coordinate_descent.py:631: ConvergenceWarning: Objective did not converge. You might want to increase the number of iterations, check the scale of the features or consider increasing regularisation. Duality gap: 1.828e+00, tolerance: 1.327e+00\n",
      "  model = cd_fast.enet_coordinate_descent(\n",
      "/home/danielaguirre/miniconda3/envs/ds/lib/python3.10/site-packages/sklearn/linear_model/_coordinate_descent.py:631: ConvergenceWarning: Objective did not converge. You might want to increase the number of iterations, check the scale of the features or consider increasing regularisation. Duality gap: 4.939e+00, tolerance: 1.406e+00\n",
      "  model = cd_fast.enet_coordinate_descent(\n",
      "/home/danielaguirre/miniconda3/envs/ds/lib/python3.10/site-packages/sklearn/linear_model/_coordinate_descent.py:631: ConvergenceWarning: Objective did not converge. You might want to increase the number of iterations, check the scale of the features or consider increasing regularisation. Duality gap: 1.670e+01, tolerance: 1.462e+00\n",
      "  model = cd_fast.enet_coordinate_descent(\n",
      "/home/danielaguirre/miniconda3/envs/ds/lib/python3.10/site-packages/sklearn/linear_model/_coordinate_descent.py:631: ConvergenceWarning: Objective did not converge. You might want to increase the number of iterations, check the scale of the features or consider increasing regularisation. Duality gap: 2.643e+00, tolerance: 1.462e+00\n",
      "  model = cd_fast.enet_coordinate_descent(\n"
     ]
    },
    {
     "data": {
      "text/html": [
       "<style>#sk-container-id-10 {color: black;background-color: white;}#sk-container-id-10 pre{padding: 0;}#sk-container-id-10 div.sk-toggleable {background-color: white;}#sk-container-id-10 label.sk-toggleable__label {cursor: pointer;display: block;width: 100%;margin-bottom: 0;padding: 0.3em;box-sizing: border-box;text-align: center;}#sk-container-id-10 label.sk-toggleable__label-arrow:before {content: \"▸\";float: left;margin-right: 0.25em;color: #696969;}#sk-container-id-10 label.sk-toggleable__label-arrow:hover:before {color: black;}#sk-container-id-10 div.sk-estimator:hover label.sk-toggleable__label-arrow:before {color: black;}#sk-container-id-10 div.sk-toggleable__content {max-height: 0;max-width: 0;overflow: hidden;text-align: left;background-color: #f0f8ff;}#sk-container-id-10 div.sk-toggleable__content pre {margin: 0.2em;color: black;border-radius: 0.25em;background-color: #f0f8ff;}#sk-container-id-10 input.sk-toggleable__control:checked~div.sk-toggleable__content {max-height: 200px;max-width: 100%;overflow: auto;}#sk-container-id-10 input.sk-toggleable__control:checked~label.sk-toggleable__label-arrow:before {content: \"▾\";}#sk-container-id-10 div.sk-estimator input.sk-toggleable__control:checked~label.sk-toggleable__label {background-color: #d4ebff;}#sk-container-id-10 div.sk-label input.sk-toggleable__control:checked~label.sk-toggleable__label {background-color: #d4ebff;}#sk-container-id-10 input.sk-hidden--visually {border: 0;clip: rect(1px 1px 1px 1px);clip: rect(1px, 1px, 1px, 1px);height: 1px;margin: -1px;overflow: hidden;padding: 0;position: absolute;width: 1px;}#sk-container-id-10 div.sk-estimator {font-family: monospace;background-color: #f0f8ff;border: 1px dotted black;border-radius: 0.25em;box-sizing: border-box;margin-bottom: 0.5em;}#sk-container-id-10 div.sk-estimator:hover {background-color: #d4ebff;}#sk-container-id-10 div.sk-parallel-item::after {content: \"\";width: 100%;border-bottom: 1px solid gray;flex-grow: 1;}#sk-container-id-10 div.sk-label:hover label.sk-toggleable__label {background-color: #d4ebff;}#sk-container-id-10 div.sk-serial::before {content: \"\";position: absolute;border-left: 1px solid gray;box-sizing: border-box;top: 0;bottom: 0;left: 50%;z-index: 0;}#sk-container-id-10 div.sk-serial {display: flex;flex-direction: column;align-items: center;background-color: white;padding-right: 0.2em;padding-left: 0.2em;position: relative;}#sk-container-id-10 div.sk-item {position: relative;z-index: 1;}#sk-container-id-10 div.sk-parallel {display: flex;align-items: stretch;justify-content: center;background-color: white;position: relative;}#sk-container-id-10 div.sk-item::before, #sk-container-id-10 div.sk-parallel-item::before {content: \"\";position: absolute;border-left: 1px solid gray;box-sizing: border-box;top: 0;bottom: 0;left: 50%;z-index: -1;}#sk-container-id-10 div.sk-parallel-item {display: flex;flex-direction: column;z-index: 1;position: relative;background-color: white;}#sk-container-id-10 div.sk-parallel-item:first-child::after {align-self: flex-end;width: 50%;}#sk-container-id-10 div.sk-parallel-item:last-child::after {align-self: flex-start;width: 50%;}#sk-container-id-10 div.sk-parallel-item:only-child::after {width: 0;}#sk-container-id-10 div.sk-dashed-wrapped {border: 1px dashed gray;margin: 0 0.4em 0.5em 0.4em;box-sizing: border-box;padding-bottom: 0.4em;background-color: white;}#sk-container-id-10 div.sk-label label {font-family: monospace;font-weight: bold;display: inline-block;line-height: 1.2em;}#sk-container-id-10 div.sk-label-container {text-align: center;}#sk-container-id-10 div.sk-container {/* jupyter's `normalize.less` sets `[hidden] { display: none; }` but bootstrap.min.css set `[hidden] { display: none !important; }` so we also need the `!important` here to be able to override the default hidden behavior on the sphinx rendered scikit-learn.org. See: https://github.com/scikit-learn/scikit-learn/issues/21755 */display: inline-block !important;position: relative;}#sk-container-id-10 div.sk-text-repr-fallback {display: none;}</style><div id=\"sk-container-id-10\" class=\"sk-top-container\"><div class=\"sk-text-repr-fallback\"><pre>GridSearchCV(estimator=Lasso(),\n",
       "             param_grid={&#x27;alpha&#x27;: array([1.00000000e-03, 1.16774210e-03, 1.36362162e-03, 1.59235837e-03,\n",
       "       1.85946392e-03, 2.17137430e-03, 2.53560519e-03, 2.96093294e-03,\n",
       "       3.45760606e-03, 4.03759217e-03, 4.71486636e-03, 5.50574796e-03,\n",
       "       6.42929370e-03, 7.50775694e-03, 8.76712387e-03, 1.02377397e-02,\n",
       "       1.19550396e-02, 1.39604031e-02, 1.63021505e-02, 1.90367...\n",
       "       7.68624610e-02, 8.97555318e-02, 1.04811313e-01, 1.22392583e-01,\n",
       "       1.42922973e-01, 1.66897173e-01, 1.94892855e-01, 2.27584593e-01,\n",
       "       2.65760111e-01, 3.10339270e-01, 3.62396232e-01, 4.23185338e-01,\n",
       "       4.94171336e-01, 5.77064675e-01, 6.73862717e-01, 7.86897866e-01,\n",
       "       9.18893768e-01, 1.07303094e+00, 1.25302341e+00, 1.46320819e+00,\n",
       "       1.70864980e+00, 1.99526231e+00])},\n",
       "             scoring=&#x27;neg_mean_absolute_percentage_error&#x27;)</pre><b>In a Jupyter environment, please rerun this cell to show the HTML representation or trust the notebook. <br />On GitHub, the HTML representation is unable to render, please try loading this page with nbviewer.org.</b></div><div class=\"sk-container\" hidden><div class=\"sk-item sk-dashed-wrapped\"><div class=\"sk-label-container\"><div class=\"sk-label sk-toggleable\"><input class=\"sk-toggleable__control sk-hidden--visually\" id=\"sk-estimator-id-20\" type=\"checkbox\" ><label for=\"sk-estimator-id-20\" class=\"sk-toggleable__label sk-toggleable__label-arrow\">GridSearchCV</label><div class=\"sk-toggleable__content\"><pre>GridSearchCV(estimator=Lasso(),\n",
       "             param_grid={&#x27;alpha&#x27;: array([1.00000000e-03, 1.16774210e-03, 1.36362162e-03, 1.59235837e-03,\n",
       "       1.85946392e-03, 2.17137430e-03, 2.53560519e-03, 2.96093294e-03,\n",
       "       3.45760606e-03, 4.03759217e-03, 4.71486636e-03, 5.50574796e-03,\n",
       "       6.42929370e-03, 7.50775694e-03, 8.76712387e-03, 1.02377397e-02,\n",
       "       1.19550396e-02, 1.39604031e-02, 1.63021505e-02, 1.90367...\n",
       "       7.68624610e-02, 8.97555318e-02, 1.04811313e-01, 1.22392583e-01,\n",
       "       1.42922973e-01, 1.66897173e-01, 1.94892855e-01, 2.27584593e-01,\n",
       "       2.65760111e-01, 3.10339270e-01, 3.62396232e-01, 4.23185338e-01,\n",
       "       4.94171336e-01, 5.77064675e-01, 6.73862717e-01, 7.86897866e-01,\n",
       "       9.18893768e-01, 1.07303094e+00, 1.25302341e+00, 1.46320819e+00,\n",
       "       1.70864980e+00, 1.99526231e+00])},\n",
       "             scoring=&#x27;neg_mean_absolute_percentage_error&#x27;)</pre></div></div></div><div class=\"sk-parallel\"><div class=\"sk-parallel-item\"><div class=\"sk-item\"><div class=\"sk-label-container\"><div class=\"sk-label sk-toggleable\"><input class=\"sk-toggleable__control sk-hidden--visually\" id=\"sk-estimator-id-21\" type=\"checkbox\" ><label for=\"sk-estimator-id-21\" class=\"sk-toggleable__label sk-toggleable__label-arrow\">estimator: Lasso</label><div class=\"sk-toggleable__content\"><pre>Lasso()</pre></div></div></div><div class=\"sk-serial\"><div class=\"sk-item\"><div class=\"sk-estimator sk-toggleable\"><input class=\"sk-toggleable__control sk-hidden--visually\" id=\"sk-estimator-id-22\" type=\"checkbox\" ><label for=\"sk-estimator-id-22\" class=\"sk-toggleable__label sk-toggleable__label-arrow\">Lasso</label><div class=\"sk-toggleable__content\"><pre>Lasso()</pre></div></div></div></div></div></div></div></div></div></div>"
      ],
      "text/plain": [
       "GridSearchCV(estimator=Lasso(),\n",
       "             param_grid={'alpha': array([1.00000000e-03, 1.16774210e-03, 1.36362162e-03, 1.59235837e-03,\n",
       "       1.85946392e-03, 2.17137430e-03, 2.53560519e-03, 2.96093294e-03,\n",
       "       3.45760606e-03, 4.03759217e-03, 4.71486636e-03, 5.50574796e-03,\n",
       "       6.42929370e-03, 7.50775694e-03, 8.76712387e-03, 1.02377397e-02,\n",
       "       1.19550396e-02, 1.39604031e-02, 1.63021505e-02, 1.90367...\n",
       "       7.68624610e-02, 8.97555318e-02, 1.04811313e-01, 1.22392583e-01,\n",
       "       1.42922973e-01, 1.66897173e-01, 1.94892855e-01, 2.27584593e-01,\n",
       "       2.65760111e-01, 3.10339270e-01, 3.62396232e-01, 4.23185338e-01,\n",
       "       4.94171336e-01, 5.77064675e-01, 6.73862717e-01, 7.86897866e-01,\n",
       "       9.18893768e-01, 1.07303094e+00, 1.25302341e+00, 1.46320819e+00,\n",
       "       1.70864980e+00, 1.99526231e+00])},\n",
       "             scoring='neg_mean_absolute_percentage_error')"
      ]
     },
     "execution_count": 148,
     "metadata": {},
     "output_type": "execute_result"
    }
   ],
   "source": [
    "busqueda_cuadricula = GridSearchCV(Lasso(),param_grid={'alpha':np.logspace(-3,.3,50)},scoring='neg_mean_absolute_percentage_error')\n",
    "busqueda_cuadricula.fit(X_train,y_train)"
   ]
  },
  {
   "cell_type": "code",
   "execution_count": 149,
   "metadata": {},
   "outputs": [
    {
     "data": {
      "text/html": [
       "<style>#sk-container-id-11 {color: black;background-color: white;}#sk-container-id-11 pre{padding: 0;}#sk-container-id-11 div.sk-toggleable {background-color: white;}#sk-container-id-11 label.sk-toggleable__label {cursor: pointer;display: block;width: 100%;margin-bottom: 0;padding: 0.3em;box-sizing: border-box;text-align: center;}#sk-container-id-11 label.sk-toggleable__label-arrow:before {content: \"▸\";float: left;margin-right: 0.25em;color: #696969;}#sk-container-id-11 label.sk-toggleable__label-arrow:hover:before {color: black;}#sk-container-id-11 div.sk-estimator:hover label.sk-toggleable__label-arrow:before {color: black;}#sk-container-id-11 div.sk-toggleable__content {max-height: 0;max-width: 0;overflow: hidden;text-align: left;background-color: #f0f8ff;}#sk-container-id-11 div.sk-toggleable__content pre {margin: 0.2em;color: black;border-radius: 0.25em;background-color: #f0f8ff;}#sk-container-id-11 input.sk-toggleable__control:checked~div.sk-toggleable__content {max-height: 200px;max-width: 100%;overflow: auto;}#sk-container-id-11 input.sk-toggleable__control:checked~label.sk-toggleable__label-arrow:before {content: \"▾\";}#sk-container-id-11 div.sk-estimator input.sk-toggleable__control:checked~label.sk-toggleable__label {background-color: #d4ebff;}#sk-container-id-11 div.sk-label input.sk-toggleable__control:checked~label.sk-toggleable__label {background-color: #d4ebff;}#sk-container-id-11 input.sk-hidden--visually {border: 0;clip: rect(1px 1px 1px 1px);clip: rect(1px, 1px, 1px, 1px);height: 1px;margin: -1px;overflow: hidden;padding: 0;position: absolute;width: 1px;}#sk-container-id-11 div.sk-estimator {font-family: monospace;background-color: #f0f8ff;border: 1px dotted black;border-radius: 0.25em;box-sizing: border-box;margin-bottom: 0.5em;}#sk-container-id-11 div.sk-estimator:hover {background-color: #d4ebff;}#sk-container-id-11 div.sk-parallel-item::after {content: \"\";width: 100%;border-bottom: 1px solid gray;flex-grow: 1;}#sk-container-id-11 div.sk-label:hover label.sk-toggleable__label {background-color: #d4ebff;}#sk-container-id-11 div.sk-serial::before {content: \"\";position: absolute;border-left: 1px solid gray;box-sizing: border-box;top: 0;bottom: 0;left: 50%;z-index: 0;}#sk-container-id-11 div.sk-serial {display: flex;flex-direction: column;align-items: center;background-color: white;padding-right: 0.2em;padding-left: 0.2em;position: relative;}#sk-container-id-11 div.sk-item {position: relative;z-index: 1;}#sk-container-id-11 div.sk-parallel {display: flex;align-items: stretch;justify-content: center;background-color: white;position: relative;}#sk-container-id-11 div.sk-item::before, #sk-container-id-11 div.sk-parallel-item::before {content: \"\";position: absolute;border-left: 1px solid gray;box-sizing: border-box;top: 0;bottom: 0;left: 50%;z-index: -1;}#sk-container-id-11 div.sk-parallel-item {display: flex;flex-direction: column;z-index: 1;position: relative;background-color: white;}#sk-container-id-11 div.sk-parallel-item:first-child::after {align-self: flex-end;width: 50%;}#sk-container-id-11 div.sk-parallel-item:last-child::after {align-self: flex-start;width: 50%;}#sk-container-id-11 div.sk-parallel-item:only-child::after {width: 0;}#sk-container-id-11 div.sk-dashed-wrapped {border: 1px dashed gray;margin: 0 0.4em 0.5em 0.4em;box-sizing: border-box;padding-bottom: 0.4em;background-color: white;}#sk-container-id-11 div.sk-label label {font-family: monospace;font-weight: bold;display: inline-block;line-height: 1.2em;}#sk-container-id-11 div.sk-label-container {text-align: center;}#sk-container-id-11 div.sk-container {/* jupyter's `normalize.less` sets `[hidden] { display: none; }` but bootstrap.min.css set `[hidden] { display: none !important; }` so we also need the `!important` here to be able to override the default hidden behavior on the sphinx rendered scikit-learn.org. See: https://github.com/scikit-learn/scikit-learn/issues/21755 */display: inline-block !important;position: relative;}#sk-container-id-11 div.sk-text-repr-fallback {display: none;}</style><div id=\"sk-container-id-11\" class=\"sk-top-container\"><div class=\"sk-text-repr-fallback\"><pre>Lasso(alpha=0.041335817452924355)</pre><b>In a Jupyter environment, please rerun this cell to show the HTML representation or trust the notebook. <br />On GitHub, the HTML representation is unable to render, please try loading this page with nbviewer.org.</b></div><div class=\"sk-container\" hidden><div class=\"sk-item\"><div class=\"sk-estimator sk-toggleable\"><input class=\"sk-toggleable__control sk-hidden--visually\" id=\"sk-estimator-id-23\" type=\"checkbox\" checked><label for=\"sk-estimator-id-23\" class=\"sk-toggleable__label sk-toggleable__label-arrow\">Lasso</label><div class=\"sk-toggleable__content\"><pre>Lasso(alpha=0.041335817452924355)</pre></div></div></div></div></div>"
      ],
      "text/plain": [
       "Lasso(alpha=0.041335817452924355)"
      ]
     },
     "execution_count": 149,
     "metadata": {},
     "output_type": "execute_result"
    }
   ],
   "source": [
    "busqueda_cuadricula.best_estimator_"
   ]
  },
  {
   "cell_type": "code",
   "execution_count": null,
   "metadata": {},
   "outputs": [],
   "source": []
  }
 ],
 "metadata": {
  "kernelspec": {
   "display_name": "data science",
   "language": "python",
   "name": "ds"
  },
  "language_info": {
   "codemirror_mode": {
    "name": "ipython",
    "version": 3
   },
   "file_extension": ".py",
   "mimetype": "text/x-python",
   "name": "python",
   "nbconvert_exporter": "python",
   "pygments_lexer": "ipython3",
   "version": "3.10.12"
  },
  "papermill": {
   "duration": 13.756882,
   "end_time": "2021-01-04T17:24:03.179956",
   "environment_variables": {},
   "exception": null,
   "input_path": "__notebook__.ipynb",
   "output_path": "__notebook__.ipynb",
   "parameters": {},
   "start_time": "2021-01-04T17:23:49.423074",
   "version": "2.1.0"
  }
 },
 "nbformat": 4,
 "nbformat_minor": 4
}
