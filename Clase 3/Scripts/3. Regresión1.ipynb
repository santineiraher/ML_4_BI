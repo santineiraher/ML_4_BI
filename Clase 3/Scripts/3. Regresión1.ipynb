{
 "cells": [
  {
   "cell_type": "markdown",
   "metadata": {},
   "source": [
    "# **Machine Learning para Business Intelligence** \n",
    "#### Profesor: Santiago Neira\n"
   ]
  },
  {
   "cell_type": "markdown",
   "metadata": {},
   "source": [
    "## Clase 3. Introducción a regresiones"
   ]
  },
  {
   "cell_type": "code",
   "execution_count": null,
   "metadata": {},
   "outputs": [],
   "source": [
    "##Paquetes que vamos a usar \n",
    "##!pip install pandas numpy scikit-learn seaborn statsmodels"
   ]
  },
  {
   "cell_type": "code",
   "execution_count": null,
   "metadata": {},
   "outputs": [],
   "source": [
    "# Importamos las librerías de la clase\n",
    "import pandas as pd\n",
    "import numpy as np\n",
    "import re\n",
    "from sklearn.preprocessing import StandardScaler\n",
    "import seaborn as sns"
   ]
  },
  {
   "cell_type": "markdown",
   "metadata": {},
   "source": [
    "Para la clase de hoy, continuaremos con los datos de calidad de vinos"
   ]
  },
  {
   "cell_type": "code",
   "execution_count": null,
   "metadata": {},
   "outputs": [],
   "source": [
    "calidad_vinos = pd.read_csv('../Datos/wine-quality.csv')"
   ]
  },
  {
   "cell_type": "markdown",
   "metadata": {},
   "source": [
    "Nuestro objetivo será ahora predecir su calidad."
   ]
  },
  {
   "cell_type": "code",
   "execution_count": null,
   "metadata": {},
   "outputs": [],
   "source": [
    "calidad_vinos.head()"
   ]
  },
  {
   "cell_type": "markdown",
   "metadata": {},
   "source": [
    "### 0. Manipulación de datos y Feature Engineering"
   ]
  },
  {
   "cell_type": "markdown",
   "metadata": {},
   "source": [
    "Quisieramos calcular otra información a partir de la que tenemos. En particular\n",
    "- El **tipo** de vino basado en una lista: *Cabernet Sauvignon, Chardonnay, Pinot Noir*,...\n",
    "- El **año** del vino basado en su título."
   ]
  },
  {
   "cell_type": "code",
   "execution_count": null,
   "metadata": {},
   "outputs": [],
   "source": [
    "tipo_vino = ['Cabernet Sauvignon','Chardonnay','Pinot Noir','Sparkling','Sauvignon Blanc','Merlot',\\\n",
    "              'Malbec','Prosecco','Rosé','Syrah','Zynfandel','Tempranillo','Moscato','Riesling','Pinot Gris']"
   ]
  },
  {
   "cell_type": "markdown",
   "metadata": {},
   "source": [
    "Creamos una función que nos permita encontrar un tipo de vino a partir de esta lista."
   ]
  },
  {
   "cell_type": "code",
   "execution_count": null,
   "metadata": {},
   "outputs": [],
   "source": [
    "def encontrar_tipo_vino(text: str):\n",
    "    tipo = 'Otro'\n",
    "    for k in tipo_vino:\n",
    "        if k.lower() in text.lower():\n",
    "            tipo = k\n",
    "            break\n",
    "    return tipo"
   ]
  },
  {
   "cell_type": "code",
   "execution_count": null,
   "metadata": {},
   "outputs": [],
   "source": [
    "encontrar_tipo_vino('Basel Cellars 2011 Merlot (Columbia Valley (WA))')"
   ]
  },
  {
   "cell_type": "code",
   "execution_count": null,
   "metadata": {},
   "outputs": [],
   "source": [
    "encontrar_tipo_vino('DFJ Vinhos 2011 Vega Red (Douro)')"
   ]
  },
  {
   "cell_type": "code",
   "execution_count": null,
   "metadata": {},
   "outputs": [],
   "source": [
    "encontrar_tipo_vino('Beaulieu Vineyard 2013 Maestro Collection Cabernet Sauvignon-Syrah (Napa Valley)')"
   ]
  },
  {
   "cell_type": "markdown",
   "metadata": {},
   "source": [
    "Ahora, aplicamos esta función a todos los títulos."
   ]
  },
  {
   "cell_type": "code",
   "execution_count": null,
   "metadata": {},
   "outputs": [],
   "source": [
    "calidad_vinos['tipo vino'] = calidad_vinos.title.apply(encontrar_tipo_vino)"
   ]
  },
  {
   "cell_type": "markdown",
   "metadata": {},
   "source": [
    "Es fácil confundirse con la columna `type`, que en realidad hace referencia al color."
   ]
  },
  {
   "cell_type": "code",
   "execution_count": null,
   "metadata": {},
   "outputs": [],
   "source": [
    "calidad_vinos = calidad_vinos.rename(columns={'type':'color'})"
   ]
  },
  {
   "cell_type": "markdown",
   "metadata": {},
   "source": [
    "Quisiéramos sacar también el año en el que salió un vino. Para esto utilizamos un paquete conocido como `RegEx` basado en expresiones regulares. Estas las cubriremos más adelante en el curso, por ahora ¡observen la magia!"
   ]
  },
  {
   "cell_type": "code",
   "execution_count": null,
   "metadata": {
    "scrolled": true
   },
   "outputs": [],
   "source": [
    "calidad_vinos['title'].apply(lambda s: re.findall(r'\\d{4}', s)[0] if len(re.findall(r'\\d{4}', s)) > 0 else np.nan)"
   ]
  },
  {
   "cell_type": "code",
   "execution_count": null,
   "metadata": {},
   "outputs": [],
   "source": [
    "calidad_vinos['año'] = pd.to_numeric(calidad_vinos['title'].apply(lambda s: re.findall(r'\\d{4}', s)[0] if len(re.findall(r'\\d{4}', s)) > 0 else np.nan))"
   ]
  },
  {
   "cell_type": "code",
   "execution_count": null,
   "metadata": {},
   "outputs": [],
   "source": [
    "calidad_vinos.head()"
   ]
  },
  {
   "cell_type": "markdown",
   "metadata": {},
   "source": [
    "Las características inherentes de los vinos pueden estar plenamente caracterizadas por su tipo y el color! Podemos pensar en imputar los datos que nos faltan con base en esto!"
   ]
  },
  {
   "cell_type": "code",
   "execution_count": null,
   "metadata": {},
   "outputs": [],
   "source": [
    "imputacion_color_tipo = calidad_vinos.groupby(['color','tipo vino'])[['fixed acidity','volatile acidity','citric acid','residual sugar','chlorides','pH','sulphates','año']].mean()\n",
    "imputacion_color_tipo.head()"
   ]
  },
  {
   "cell_type": "code",
   "execution_count": null,
   "metadata": {},
   "outputs": [],
   "source": [
    "imputacion_color_tipo = imputacion_color_tipo.reset_index()\n",
    "imputacion_color_tipo['llave'] = imputacion_color_tipo['color']+'-'+imputacion_color_tipo['tipo vino']"
   ]
  },
  {
   "cell_type": "code",
   "execution_count": null,
   "metadata": {},
   "outputs": [],
   "source": [
    "imputacion_color_tipo = imputacion_color_tipo.drop(columns=['color','tipo vino']).set_index('llave')\n",
    "imputacion_color_tipo.head()"
   ]
  },
  {
   "cell_type": "code",
   "execution_count": null,
   "metadata": {
    "scrolled": true
   },
   "outputs": [],
   "source": [
    "calidad_vinos['llave'] = calidad_vinos['color']+'-'+calidad_vinos['tipo vino']\n",
    "calidad_vinos.head()"
   ]
  },
  {
   "cell_type": "code",
   "execution_count": null,
   "metadata": {},
   "outputs": [],
   "source": [
    "calidad_vinos['llave'].map(imputacion_color_tipo['fixed acidity'])"
   ]
  },
  {
   "cell_type": "code",
   "execution_count": null,
   "metadata": {},
   "outputs": [],
   "source": [
    "calidad_vinos['fixed acidity'].fillna(calidad_vinos['llave'].map(imputacion_color_tipo['fixed acidity']))"
   ]
  },
  {
   "cell_type": "code",
   "execution_count": null,
   "metadata": {},
   "outputs": [],
   "source": [
    "vars_imputar = ['fixed acidity','volatile acidity','citric acid','residual sugar','chlorides','pH','sulphates','año']\n",
    "for columna_seleccionada in vars_imputar:\n",
    "    calidad_vinos[columna_seleccionada] = calidad_vinos[columna_seleccionada].fillna(calidad_vinos['llave'].map(imputacion_color_tipo[columna_seleccionada]))"
   ]
  },
  {
   "cell_type": "code",
   "execution_count": null,
   "metadata": {},
   "outputs": [],
   "source": [
    "calidad_vinos.isna().sum()"
   ]
  },
  {
   "cell_type": "code",
   "execution_count": null,
   "metadata": {},
   "outputs": [],
   "source": [
    "calidad_vinos.sample(5)"
   ]
  },
  {
   "cell_type": "code",
   "execution_count": null,
   "metadata": {},
   "outputs": [],
   "source": [
    "calidad_vinos.drop(columns='llave',inplace=True)"
   ]
  },
  {
   "cell_type": "code",
   "execution_count": null,
   "metadata": {},
   "outputs": [],
   "source": [
    "calidad_vinos['año'] = calidad_vinos['año'].astype(int)"
   ]
  },
  {
   "cell_type": "code",
   "execution_count": null,
   "metadata": {},
   "outputs": [],
   "source": [
    "calidad_vinos.head()"
   ]
  },
  {
   "cell_type": "markdown",
   "metadata": {},
   "source": [
    "### Visualicemos nuestro datos"
   ]
  },
  {
   "cell_type": "code",
   "execution_count": null,
   "metadata": {},
   "outputs": [],
   "source": [
    "calidad_vinos['quality'] = calidad_vinos['quality'].astype(float)\n",
    "calidad_vinos['fixed acidity'] = calidad_vinos['fixed acidity'].astype(float)\n",
    "calidad_vinos['año'] = calidad_vinos['año'].astype(float)"
   ]
  },
  {
   "cell_type": "code",
   "execution_count": null,
   "metadata": {},
   "outputs": [],
   "source": [
    "sns.pairplot(data=calidad_vinos[['fixed acidity','volatile acidity','citric acid','total sulfur dioxide','residual sugar','sulphates','alcohol','chlorides','density','pH','año','color','quality']],hue='color')"
   ]
  },
  {
   "cell_type": "code",
   "execution_count": null,
   "metadata": {},
   "outputs": [],
   "source": [
    "variables_numericas = ['fixed acidity','volatile acidity','citric acid','residual sugar', 'chlorides', 'free sulfur dioxide',\n",
    "       'total sulfur dioxide', 'density', 'pH', 'sulphates', 'alcohol','año']"
   ]
  },
  {
   "cell_type": "code",
   "execution_count": null,
   "metadata": {},
   "outputs": [],
   "source": [
    "variables_categoricas=['color','tipo vino']"
   ]
  },
  {
   "cell_type": "code",
   "execution_count": null,
   "metadata": {},
   "outputs": [],
   "source": [
    "X = calidad_vinos[variables_numericas+variables_categoricas]\n",
    "y = calidad_vinos['quality']"
   ]
  },
  {
   "cell_type": "code",
   "execution_count": null,
   "metadata": {},
   "outputs": [],
   "source": [
    "X = pd.get_dummies(X,columns=variables_categoricas,drop_first=True)"
   ]
  },
  {
   "cell_type": "code",
   "execution_count": null,
   "metadata": {},
   "outputs": [],
   "source": [
    "X.isna().mean()"
   ]
  },
  {
   "cell_type": "markdown",
   "metadata": {},
   "source": [
    "##  Veamos nuestro primer modelo!! "
   ]
  },
  {
   "cell_type": "code",
   "execution_count": null,
   "metadata": {},
   "outputs": [],
   "source": [
    "###Train - test split\n",
    "from sklearn.model_selection import train_test_split\n",
    "X_train, X_test, y_train, y_test = train_test_split(X,y,test_size=0.33)"
   ]
  },
  {
   "cell_type": "code",
   "execution_count": null,
   "metadata": {},
   "outputs": [],
   "source": [
    "print(X_train.shape)"
   ]
  },
  {
   "cell_type": "code",
   "execution_count": null,
   "metadata": {},
   "outputs": [],
   "source": [
    "X_test.shape"
   ]
  },
  {
   "cell_type": "code",
   "execution_count": null,
   "metadata": {},
   "outputs": [],
   "source": [
    "X_train.head()"
   ]
  },
  {
   "cell_type": "code",
   "execution_count": null,
   "metadata": {},
   "outputs": [],
   "source": [
    "X_test.head()"
   ]
  },
  {
   "cell_type": "code",
   "execution_count": null,
   "metadata": {},
   "outputs": [],
   "source": [
    "## Corramos nuestra primera regresión -- útil para quienes quieren ver relevancia estadística\n",
    "import statsmodels.api as sm\n",
    "X_train_adj = sm.add_constant(X_train)\n",
    "X_train_adj = X_train_adj.astype(float)\n",
    "model = sm.OLS(endog=y_train,exog=X_train_adj)\n",
    "results = model.fit()"
   ]
  },
  {
   "cell_type": "code",
   "execution_count": null,
   "metadata": {},
   "outputs": [],
   "source": [
    "results.summary()"
   ]
  },
  {
   "cell_type": "code",
   "execution_count": null,
   "metadata": {},
   "outputs": [],
   "source": [
    "## Hay alta multicolinealidad\n",
    "correlation=X.corr()\n"
   ]
  },
  {
   "cell_type": "code",
   "execution_count": null,
   "metadata": {},
   "outputs": [],
   "source": [
    "import matplotlib.pyplot as plt\n",
    "plt.figure(figsize=(10, 8)) \n",
    "\n",
    "# Create the heatmap\n",
    "sns.heatmap(correlation, annot=True, cmap='coolwarm', fmt='.1f', cbar=True, \n",
    "            annot_kws={'size': 7},  \n",
    "            linewidths=0.5,  \n",
    "            linecolor='gray', \n",
    "            square=True) \n",
    "\n",
    "# Add title\n",
    "plt.title(\"Correlation Matrix\", fontsize=16)\n",
    "\n",
    "# Adjust the layout to avoid clipping of labels\n",
    "plt.tight_layout()\n",
    "\n",
    "# Display the plot\n",
    "plt.show()"
   ]
  },
  {
   "cell_type": "code",
   "execution_count": null,
   "metadata": {},
   "outputs": [],
   "source": [
    "mask = correlation.where(abs(correlation) > 0.6)\n",
    "filtered_pairs = mask.stack().reset_index()\n",
    "filtered_pairs.columns = ['Feature 1', 'Feature 2', 'Correlation']\n",
    "filtered_pairs = filtered_pairs[filtered_pairs['Feature 1'] != filtered_pairs['Feature 2']]\n",
    "print(filtered_pairs)"
   ]
  },
  {
   "cell_type": "code",
   "execution_count": null,
   "metadata": {},
   "outputs": [],
   "source": [
    "from sklearn.preprocessing import StandardScaler\n",
    "## Re-definir las variables a utilizar, y correr nuevamente el ejercicio\n",
    "variables_numericas = ['fixed acidity','volatile acidity','citric acid','residual sugar', 'chlorides', 'total sulfur dioxide', 'pH', 'sulphates', 'alcohol','año']\n",
    "variables_categoricas=['tipo vino']\n",
    "\n",
    "estandarizador = StandardScaler()\n",
    "estandarizador.fit(calidad_vinos.loc[:,variables_numericas])\n",
    "calidad_vinos.loc[:,variables_numericas] = estandarizador.transform(calidad_vinos.loc[:,variables_numericas])\n",
    "\n",
    "\n",
    "X = calidad_vinos[variables_numericas+variables_categoricas]\n",
    "y = calidad_vinos['quality']\n",
    "X = pd.get_dummies(X,columns=variables_categoricas,drop_first=True)\n",
    "\n",
    "\n",
    "##Train test\n",
    "X_train, X_test, y_train, y_test = train_test_split(X,y,test_size=0.33)\n",
    "X_train_adj = sm.add_constant(X_train)\n",
    "X_train_adj = X_train_adj.astype(float)\n",
    "##Modelo\n",
    "model = sm.OLS(endog=y_train,exog=X_train_adj)\n",
    "results = model.fit()\n",
    "results.summary()"
   ]
  },
  {
   "cell_type": "markdown",
   "metadata": {},
   "source": [
    "## Métricas de evaluación"
   ]
  },
  {
   "cell_type": "code",
   "execution_count": null,
   "metadata": {},
   "outputs": [],
   "source": [
    "### Ahora utilicemos el paquete que nos permitirá hacer otro tipo de análisis\n",
    "from sklearn.linear_model import LinearRegression"
   ]
  },
  {
   "cell_type": "code",
   "execution_count": null,
   "metadata": {},
   "outputs": [],
   "source": [
    "modelo_regresion = LinearRegression()\n",
    "modelo_regresion.fit(X_train,y_train)"
   ]
  },
  {
   "cell_type": "code",
   "execution_count": null,
   "metadata": {},
   "outputs": [],
   "source": [
    "modelo_regresion.predict(X_test)"
   ]
  },
  {
   "cell_type": "code",
   "execution_count": null,
   "metadata": {},
   "outputs": [],
   "source": [
    "final = X_test.copy()\n",
    "final['prediccion'] = modelo_regresion.predict(X_test)\n",
    "final['calidad real'] = y_test"
   ]
  },
  {
   "cell_type": "code",
   "execution_count": null,
   "metadata": {},
   "outputs": [],
   "source": [
    "from sklearn.metrics import mean_absolute_error,mean_absolute_percentage_error,r2_score"
   ]
  },
  {
   "cell_type": "code",
   "execution_count": null,
   "metadata": {},
   "outputs": [],
   "source": [
    "mean_absolute_error(y_true=y_train,y_pred=modelo_regresion.predict(X_train))"
   ]
  },
  {
   "cell_type": "code",
   "execution_count": null,
   "metadata": {},
   "outputs": [],
   "source": [
    "mean_absolute_error(y_true=y_test,y_pred=modelo_regresion.predict(X_test))"
   ]
  },
  {
   "cell_type": "code",
   "execution_count": null,
   "metadata": {},
   "outputs": [],
   "source": [
    "mean_absolute_percentage_error(y_true=y_train,y_pred=modelo_regresion.predict(X_train))"
   ]
  },
  {
   "cell_type": "code",
   "execution_count": null,
   "metadata": {},
   "outputs": [],
   "source": [
    "mean_absolute_percentage_error(y_true=y_test,y_pred=modelo_regresion.predict(X_test))"
   ]
  },
  {
   "cell_type": "code",
   "execution_count": null,
   "metadata": {},
   "outputs": [],
   "source": [
    "r2_score(y_test,modelo_regresion.predict(X_test))"
   ]
  },
  {
   "cell_type": "code",
   "execution_count": null,
   "metadata": {},
   "outputs": [],
   "source": [
    "r2_score(y_train,modelo_regresion.predict(X_train))"
   ]
  },
  {
   "cell_type": "markdown",
   "metadata": {},
   "source": [
    "## Probemos otra especificación - Utilicemos lo recogido del modelo original"
   ]
  },
  {
   "cell_type": "code",
   "execution_count": null,
   "metadata": {},
   "outputs": [],
   "source": [
    "calidad_vinos.loc[:,variables_numericas] = estandarizador.inverse_transform(calidad_vinos.loc[:,variables_numericas])"
   ]
  },
  {
   "cell_type": "code",
   "execution_count": null,
   "metadata": {},
   "outputs": [],
   "source": [
    "## Probemos otra especificación -- utilizemos lo recogido del modelo original\n",
    "variables_grado_poly = ['volatile acidity','residual sugar', 'total sulfur dioxide',  'sulphates', 'alcohol']"
   ]
  },
  {
   "cell_type": "code",
   "execution_count": null,
   "metadata": {},
   "outputs": [],
   "source": [
    "from sklearn.preprocessing import PolynomialFeatures\n",
    "trans_polinomial = PolynomialFeatures(degree=2)\n",
    "trans_polinomial.fit(calidad_vinos.loc[:,variables_grado_poly])"
   ]
  },
  {
   "cell_type": "code",
   "execution_count": null,
   "metadata": {},
   "outputs": [],
   "source": [
    "pd.DataFrame(trans_polinomial.transform(calidad_vinos.loc[:,variables_grado_poly]),\n",
    "             columns=trans_polinomial.get_feature_names_out(input_features=variables_grado_poly))"
   ]
  },
  {
   "cell_type": "code",
   "execution_count": null,
   "metadata": {},
   "outputs": [],
   "source": [
    "calidad_vinos_poly = pd.concat([calidad_vinos.drop(columns=variables_grado_poly),pd.DataFrame(trans_polinomial.transform(calidad_vinos.loc[:,variables_grado_poly]),\n",
    "             columns=trans_polinomial.get_feature_names_out(input_features=variables_grado_poly))],axis=1)"
   ]
  },
  {
   "cell_type": "code",
   "execution_count": null,
   "metadata": {},
   "outputs": [],
   "source": [
    "calidad_vinos_poly.columns"
   ]
  },
  {
   "cell_type": "code",
   "execution_count": null,
   "metadata": {},
   "outputs": [],
   "source": [
    "variables_numericas_poly = list(set(variables_numericas + list(trans_polinomial.get_feature_names_out(input_features=variables_grado_poly))))\n",
    "variables_categoricas = ['color']"
   ]
  },
  {
   "cell_type": "code",
   "execution_count": null,
   "metadata": {},
   "outputs": [],
   "source": [
    "estandarizador = StandardScaler()\n",
    "estandarizador.fit(calidad_vinos_poly.loc[:,variables_numericas_poly])\n",
    "calidad_vinos_poly.loc[:,variables_numericas_poly] = estandarizador.transform(calidad_vinos_poly.loc[:,variables_numericas_poly])"
   ]
  },
  {
   "cell_type": "code",
   "execution_count": null,
   "metadata": {},
   "outputs": [],
   "source": [
    "X=calidad_vinos_poly[variables_numericas_poly+variables_categoricas]\n",
    "X = pd.get_dummies(X,columns=variables_categoricas,drop_first=True)"
   ]
  },
  {
   "cell_type": "code",
   "execution_count": null,
   "metadata": {},
   "outputs": [],
   "source": [
    "X_train, X_test, y_train, y_test = train_test_split(X,y,test_size=0.33)"
   ]
  },
  {
   "cell_type": "code",
   "execution_count": null,
   "metadata": {},
   "outputs": [],
   "source": [
    "modelo_regresion = LinearRegression()\n",
    "modelo_regresion.fit(X_train,y_train)"
   ]
  },
  {
   "cell_type": "code",
   "execution_count": null,
   "metadata": {},
   "outputs": [],
   "source": [
    "mean_absolute_error(y_true=y_train,y_pred=modelo_regresion.predict(X_train))"
   ]
  },
  {
   "cell_type": "code",
   "execution_count": null,
   "metadata": {},
   "outputs": [],
   "source": [
    "mean_absolute_error(y_true=y_test,y_pred=modelo_regresion.predict(X_test))"
   ]
  },
  {
   "cell_type": "code",
   "execution_count": null,
   "metadata": {},
   "outputs": [],
   "source": [
    "mean_absolute_percentage_error(y_true=y_train,y_pred=modelo_regresion.predict(X_train))"
   ]
  },
  {
   "cell_type": "code",
   "execution_count": null,
   "metadata": {},
   "outputs": [],
   "source": [
    "mean_absolute_percentage_error(y_true=y_test,y_pred=modelo_regresion.predict(X_test))"
   ]
  },
  {
   "cell_type": "code",
   "execution_count": null,
   "metadata": {},
   "outputs": [],
   "source": [
    "r2_score(y_test,modelo_regresion.predict(X_test))"
   ]
  },
  {
   "cell_type": "code",
   "execution_count": null,
   "metadata": {},
   "outputs": [],
   "source": [
    "r2_score(y_train,modelo_regresion.predict(X_train))"
   ]
  },
  {
   "cell_type": "code",
   "execution_count": null,
   "metadata": {},
   "outputs": [],
   "source": [
    "pd.DataFrame(modelo_regresion.coef_,index=modelo_regresion.feature_names_in_).rename(columns={0:'coef'}).sort_values(by='coef',ascending=False).head()"
   ]
  },
  {
   "cell_type": "markdown",
   "metadata": {},
   "source": [
    "## Regularización"
   ]
  },
  {
   "cell_type": "code",
   "execution_count": null,
   "metadata": {},
   "outputs": [],
   "source": [
    "X = calidad_vinos_poly[variables_numericas_poly+variables_categoricas]\n",
    "y = calidad_vinos_poly['quality']"
   ]
  },
  {
   "cell_type": "markdown",
   "metadata": {},
   "source": [
    "### Regresión Ridge - Regularización L2"
   ]
  },
  {
   "cell_type": "code",
   "execution_count": null,
   "metadata": {},
   "outputs": [],
   "source": [
    "from sklearn.linear_model import Ridge\n",
    "regresion_ridge = Ridge(alpha=1)\n",
    "regresion_ridge.fit(X_train,y_train)"
   ]
  },
  {
   "cell_type": "code",
   "execution_count": null,
   "metadata": {},
   "outputs": [],
   "source": [
    "mean_absolute_percentage_error(y_true=y_test,y_pred=np.round(regresion_ridge.predict(X_test)))"
   ]
  },
  {
   "cell_type": "code",
   "execution_count": null,
   "metadata": {},
   "outputs": [],
   "source": [
    "pd.DataFrame(regresion_ridge.coef_,index=regresion_ridge.feature_names_in_).rename(columns={0:'coef'}).sort_values(by='coef',ascending=False).head()"
   ]
  },
  {
   "cell_type": "code",
   "execution_count": null,
   "metadata": {},
   "outputs": [],
   "source": [
    "regresion_ridge = Ridge(alpha=2)\n",
    "regresion_ridge.fit(X_train,y_train)"
   ]
  },
  {
   "cell_type": "code",
   "execution_count": null,
   "metadata": {},
   "outputs": [],
   "source": [
    "mean_absolute_percentage_error(y_true=y_test,y_pred=np.round(regresion_ridge.predict(X_test)))"
   ]
  },
  {
   "cell_type": "code",
   "execution_count": null,
   "metadata": {},
   "outputs": [],
   "source": [
    "pd.DataFrame(regresion_ridge.coef_,index=regresion_ridge.feature_names_in_).rename(columns={0:'coef'}).sort_values(by='coef',ascending=False).head()"
   ]
  },
  {
   "cell_type": "markdown",
   "metadata": {},
   "source": [
    "### Regresión Lasso - Regularización L1"
   ]
  },
  {
   "cell_type": "code",
   "execution_count": null,
   "metadata": {},
   "outputs": [],
   "source": [
    "from sklearn.linear_model import Lasso\n",
    "regresion_lasso = Lasso(alpha=1)\n",
    "regresion_lasso.fit(X_train,y_train)\n",
    "mean_absolute_percentage_error(y_true=y_test,y_pred=np.round(regresion_lasso.predict(X_test)))"
   ]
  },
  {
   "cell_type": "code",
   "execution_count": null,
   "metadata": {},
   "outputs": [],
   "source": [
    "regresion_lasso = Lasso(alpha=0.01)\n",
    "regresion_lasso.fit(X_train,y_train)\n",
    "mean_absolute_percentage_error(y_true=y_test,y_pred=np.round(regresion_lasso.predict(X_test)))"
   ]
  },
  {
   "cell_type": "code",
   "execution_count": null,
   "metadata": {},
   "outputs": [],
   "source": [
    "pd.DataFrame(regresion_lasso.coef_,index=regresion_lasso.feature_names_in_).rename(columns={0:'coef'}).sort_values(by='coef',ascending=False).head(50)"
   ]
  },
  {
   "cell_type": "markdown",
   "metadata": {},
   "source": [
    "### Validación Cruzada"
   ]
  },
  {
   "cell_type": "code",
   "execution_count": null,
   "metadata": {},
   "outputs": [],
   "source": [
    "from sklearn import metrics\n",
    "from sklearn.model_selection import cross_val_score\n",
    "\n",
    "scores = cross_val_score(regresion_lasso,X_test,y_test,cv=5,scoring='neg_mean_absolute_percentage_error')"
   ]
  },
  {
   "cell_type": "code",
   "execution_count": null,
   "metadata": {},
   "outputs": [],
   "source": [
    "scores"
   ]
  },
  {
   "cell_type": "markdown",
   "metadata": {},
   "source": [
    "### Búsqueda de hiperparámetros para Lasso"
   ]
  },
  {
   "cell_type": "code",
   "execution_count": null,
   "metadata": {},
   "outputs": [],
   "source": [
    "from sklearn.model_selection import GridSearchCV\n",
    "\n",
    "busqueda_cuadricula = GridSearchCV(Lasso(),param_grid={'alpha':[0.0001,0.001,0.01,0.1,1,10]},scoring='neg_mean_absolute_percentage_error')\n",
    "busqueda_cuadricula.fit(X_train,y_train)"
   ]
  },
  {
   "cell_type": "code",
   "execution_count": null,
   "metadata": {},
   "outputs": [],
   "source": [
    "pd.DataFrame(busqueda_cuadricula.cv_results_)"
   ]
  },
  {
   "cell_type": "code",
   "execution_count": null,
   "metadata": {},
   "outputs": [],
   "source": [
    "pd.DataFrame(busqueda_cuadricula.cv_results_).plot(x='param_alpha',y='mean_test_score',xlabel=r'Párametro $\\alpha$',ylabel='Score promedio')"
   ]
  },
  {
   "cell_type": "code",
   "execution_count": null,
   "metadata": {},
   "outputs": [],
   "source": [
    "np.logspace(-4,-2,20)"
   ]
  },
  {
   "cell_type": "code",
   "execution_count": null,
   "metadata": {},
   "outputs": [],
   "source": [
    "from sklearn.model_selection import GridSearchCV\n",
    "\n",
    "busqueda_cuadricula = GridSearchCV(Lasso(),param_grid={'alpha':np.logspace(-5,-2,20)},scoring='neg_mean_absolute_percentage_error')\n",
    "busqueda_cuadricula.fit(X_train,y_train)"
   ]
  },
  {
   "cell_type": "code",
   "execution_count": null,
   "metadata": {},
   "outputs": [],
   "source": [
    "_ = pd.DataFrame(busqueda_cuadricula.cv_results_).plot(x='param_alpha',y='mean_test_score',xlabel=r'Párametro $\\alpha$',ylabel='Score promedio')"
   ]
  },
  {
   "cell_type": "code",
   "execution_count": null,
   "metadata": {},
   "outputs": [],
   "source": [
    "busqueda_cuadricula.best_estimator_"
   ]
  },
  {
   "cell_type": "code",
   "execution_count": null,
   "metadata": {},
   "outputs": [],
   "source": [
    "busqueda_cuadricula.best_estimator_.alpha"
   ]
  },
  {
   "cell_type": "code",
   "execution_count": null,
   "metadata": {},
   "outputs": [],
   "source": [
    "pd.Series(busqueda_cuadricula.best_estimator_.coef_,index=busqueda_cuadricula.best_estimator_.feature_names_in_).sort_values()"
   ]
  },
  {
   "cell_type": "code",
   "execution_count": null,
   "metadata": {},
   "outputs": [],
   "source": [
    "### Volvamos a correr el modelo con esto y comparemos"
   ]
  },
  {
   "cell_type": "code",
   "execution_count": null,
   "metadata": {},
   "outputs": [],
   "source": [
    "mean_absolute_percentage_error(y_test,busqueda_cuadricula.predict(X_test))\n",
    "##En nuestra construcción original teníamos 0.10150062728065513"
   ]
  },
  {
   "cell_type": "markdown",
   "metadata": {},
   "source": [
    " Tarea - Un pedazo que no estamos corriendo hace parte de la selección de variables. Escoja aquellas variables que son no-negativas y corra el `pipeline` completo de selección. Llega a nuevos resultados?"
   ]
  },
  {
   "cell_type": "code",
   "execution_count": null,
   "metadata": {},
   "outputs": [],
   "source": []
  },
  {
   "cell_type": "markdown",
   "metadata": {},
   "source": [
    "### Búsqueda de hiperparámetros para Ridge"
   ]
  },
  {
   "cell_type": "code",
   "execution_count": null,
   "metadata": {},
   "outputs": [],
   "source": [
    "busqueda_cuadricula_ridge = GridSearchCV(Ridge(),param_grid={'alpha':np.logspace(-5,1,20)},scoring='neg_mean_absolute_percentage_error')\n",
    "busqueda_cuadricula_ridge.fit(X_train,y_train)"
   ]
  },
  {
   "cell_type": "code",
   "execution_count": null,
   "metadata": {},
   "outputs": [],
   "source": [
    "_ = pd.DataFrame(busqueda_cuadricula_ridge.cv_results_).plot(x='param_alpha',y='mean_test_score',xlabel=r'Párametro $\\alpha$',ylabel='Score promedio')"
   ]
  },
  {
   "cell_type": "code",
   "execution_count": null,
   "metadata": {},
   "outputs": [],
   "source": [
    "busqueda_cuadricula_ridge.predict(X_test)"
   ]
  },
  {
   "cell_type": "code",
   "execution_count": null,
   "metadata": {},
   "outputs": [],
   "source": [
    "mean_absolute_percentage_error(y_test,busqueda_cuadricula_ridge.predict(X_test))"
   ]
  },
  {
   "cell_type": "code",
   "execution_count": null,
   "metadata": {},
   "outputs": [],
   "source": [
    "busqueda_cuadricula_ridge.best_estimator_"
   ]
  },
  {
   "cell_type": "code",
   "execution_count": null,
   "metadata": {},
   "outputs": [],
   "source": [
    "pd.Series(busqueda_cuadricula_ridge.best_estimator_.coef_,index=busqueda_cuadricula_ridge.best_estimator_.feature_names_in_).sort_values()"
   ]
  },
  {
   "cell_type": "code",
   "execution_count": null,
   "metadata": {},
   "outputs": [],
   "source": []
  },
  {
   "cell_type": "code",
   "execution_count": null,
   "metadata": {},
   "outputs": [],
   "source": []
  }
 ],
 "metadata": {
  "kernelspec": {
   "display_name": "Python 3 (ipykernel)",
   "language": "python",
   "name": "python3"
  },
  "language_info": {
   "codemirror_mode": {
    "name": "ipython",
    "version": 3
   },
   "file_extension": ".py",
   "mimetype": "text/x-python",
   "name": "python",
   "nbconvert_exporter": "python",
   "pygments_lexer": "ipython3",
   "version": "3.13.0"
  }
 },
 "nbformat": 4,
 "nbformat_minor": 4
}
