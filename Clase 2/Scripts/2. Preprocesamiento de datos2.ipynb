{
 "cells": [
  {
   "attachments": {},
   "cell_type": "markdown",
   "metadata": {},
   "source": [
    "# **Machine Learning para Business Intelligence** \n",
    "#### Profesor: Santiago Neira"
   ]
  },
  {
   "attachments": {},
   "cell_type": "markdown",
   "metadata": {},
   "source": [
    "## Clase 2. Preprocesamiento de datos, estructuración y visualización"
   ]
  },
  {
   "cell_type": "code",
   "execution_count": null,
   "metadata": {},
   "outputs": [],
   "source": [
    "#pip install plotly"
   ]
  },
  {
   "cell_type": "code",
   "execution_count": 7,
   "metadata": {},
   "outputs": [],
   "source": [
    "#pip install scikit-learn"
   ]
  },
  {
   "cell_type": "code",
   "execution_count": 8,
   "metadata": {},
   "outputs": [],
   "source": [
    "#pip install pandas\n"
   ]
  },
  {
   "cell_type": "code",
   "execution_count": 9,
   "metadata": {},
   "outputs": [],
   "source": [
    "#pip install numpy"
   ]
  },
  {
   "cell_type": "code",
   "execution_count": 10,
   "metadata": {
    "ExecuteTime": {
     "end_time": "2024-08-15T22:36:08.266784Z",
     "start_time": "2024-08-15T22:36:08.262595Z"
    }
   },
   "outputs": [],
   "source": [
    "# Importamos las librerías de la clase\n",
    "import os\n",
    "import pandas as pd\n",
    "import numpy as np"
   ]
  },
  {
   "cell_type": "code",
   "execution_count": 11,
   "metadata": {},
   "outputs": [
    {
     "data": {
      "text/plain": [
       "'c:\\\\repos\\\\ML_4_BI\\\\Clase 2\\\\Scripts'"
      ]
     },
     "execution_count": 11,
     "metadata": {},
     "output_type": "execute_result"
    }
   ],
   "source": [
    "# Definimos el directorio\n",
    "os.getcwd()"
   ]
  },
  {
   "cell_type": "code",
   "execution_count": 12,
   "metadata": {},
   "outputs": [
    {
     "data": {
      "text/plain": [
       "['GOOG.csv', 'wine-quality.csv', 'winemag-data-130k-v2.csv']"
      ]
     },
     "execution_count": 12,
     "metadata": {},
     "output_type": "execute_result"
    }
   ],
   "source": [
    "os.listdir(\"../Datos/\")"
   ]
  },
  {
   "cell_type": "code",
   "execution_count": 13,
   "metadata": {},
   "outputs": [],
   "source": [
    "os.chdir(\"../Datos/\")"
   ]
  },
  {
   "cell_type": "code",
   "execution_count": 14,
   "metadata": {},
   "outputs": [
    {
     "data": {
      "text/plain": [
       "'c:\\\\repos\\\\ML_4_BI\\\\Clase 2\\\\Datos'"
      ]
     },
     "execution_count": 14,
     "metadata": {},
     "output_type": "execute_result"
    }
   ],
   "source": [
    "os.getcwd()"
   ]
  },
  {
   "cell_type": "code",
   "execution_count": 15,
   "metadata": {},
   "outputs": [],
   "source": [
    "# Importamos los datos\n",
    "vinos = pd.read_csv('winemag-data-130k-v2.csv',index_col=0)"
   ]
  },
  {
   "cell_type": "code",
   "execution_count": 16,
   "metadata": {},
   "outputs": [],
   "source": [
    "# Importamos los datos\n",
    "calidad_vinos = pd.read_csv('wine-quality.csv')"
   ]
  },
  {
   "cell_type": "code",
   "execution_count": null,
   "metadata": {},
   "outputs": [],
   "source": [
    "# Veamos qué columnas tiene el dataframe\n",
    "vinos.columns"
   ]
  },
  {
   "attachments": {},
   "cell_type": "markdown",
   "metadata": {},
   "source": [
    "0. Ciudad del Vino\n",
    "1. Descripcion\n",
    "2. Viñedo de donde provienne las uvas\n",
    "3. Puntaje 1-100\n",
    "4. Costo botella\n",
    "5. Provincia o estado del vino\n",
    "6. Desagregacion de ubicacion 1\n",
    "7. Desagregacion de ubicacion 2\n",
    "8. Nombre del catador\n",
    "9. Twitter del catador\n",
    "10. Titulo de la reseña\n",
    "11. Tipo de uva para hacer el vino\n",
    "12. La bodega del vino"
   ]
  },
  {
   "cell_type": "code",
   "execution_count": null,
   "metadata": {},
   "outputs": [],
   "source": [
    "vinos.head()"
   ]
  },
  {
   "cell_type": "code",
   "execution_count": null,
   "metadata": {},
   "outputs": [],
   "source": [
    "# Explore qué tipo de dato es el puntaje\n",
    "vinos['points'].dtype"
   ]
  },
  {
   "cell_type": "code",
   "execution_count": null,
   "metadata": {},
   "outputs": [],
   "source": [
    "# Explore qué tipos de datos son las diferentes columnas.\n",
    "vinos.dtypes"
   ]
  },
  {
   "cell_type": "code",
   "execution_count": null,
   "metadata": {},
   "outputs": [],
   "source": [
    "# ¿Cuál es la estructura del dataframe?\n",
    "vinos.shape"
   ]
  },
  {
   "cell_type": "code",
   "execution_count": null,
   "metadata": {},
   "outputs": [],
   "source": [
    "# Informacion de la base de datos (todo lo anterior en una sola vista)\n",
    "vinos.info()"
   ]
  },
  {
   "attachments": {},
   "cell_type": "markdown",
   "metadata": {},
   "source": [
    "Para transformar una varibale a un tipo deseado se usa:\n",
    "- Para datos discretos: ``astype(int)``\n",
    "- Para datos continuos: ``astype(float)``\n",
    "- Para datos categóricos: ``astype('category')``\n",
    "- Para datos de texto: ``astype(str)``\n",
    "- Entre otros..."
   ]
  },
  {
   "cell_type": "code",
   "execution_count": null,
   "metadata": {},
   "outputs": [],
   "source": [
    "# Veamos que tipo de dato es country\n",
    "vinos['country'].dtype"
   ]
  },
  {
   "cell_type": "code",
   "execution_count": null,
   "metadata": {},
   "outputs": [],
   "source": [
    "# Veamos qué países aparecen en la columna 'country'\n",
    "vinos['country'].unique()"
   ]
  },
  {
   "cell_type": "code",
   "execution_count": null,
   "metadata": {},
   "outputs": [],
   "source": [
    "# Convierta la variable país en una variable categórica.\n",
    "vinos['country'] = vinos['country'].astype('category')"
   ]
  },
  {
   "cell_type": "code",
   "execution_count": null,
   "metadata": {},
   "outputs": [],
   "source": [
    "# Verifique que se hizo correctamente\n",
    "vinos['country'].dtype"
   ]
  },
  {
   "cell_type": "code",
   "execution_count": null,
   "metadata": {},
   "outputs": [],
   "source": [
    "vinos['country']"
   ]
  },
  {
   "attachments": {},
   "cell_type": "markdown",
   "metadata": {},
   "source": [
    "### Construcción de variables\n",
    "1. Genere categorías de calificación de los vinos según el puntaje y usando la función ``pd.cut()``.\n",
    "2. Convierta esta nueva variable en variables categóricas. No tenga en cuenta una de las categorías (¿Por Qué?).\n",
    "3. Construya una variable booleana que capture si el vino es recomendado cuando pasa cierto umbral de puntaje."
   ]
  },
  {
   "cell_type": "code",
   "execution_count": null,
   "metadata": {},
   "outputs": [],
   "source": [
    "# Explorar la distribución de la variable y escoger puntos de corte adecuados.\n",
    "vinos['points'].describe()"
   ]
  },
  {
   "cell_type": "code",
   "execution_count": null,
   "metadata": {},
   "outputs": [],
   "source": [
    "# Queremos un punto de corte para definir un vino excelente!\n",
    "q25 = np.quantile(vinos['points'], .25) # Percentil 25\n",
    "q75 = np.quantile(vinos['points'], .50) # Percentil 75\n",
    "x = np.floor(0.5*(q75 + vinos.points.max())) # Un punto entre el percentil 75 y el máximo"
   ]
  },
  {
   "cell_type": "code",
   "execution_count": null,
   "metadata": {},
   "outputs": [],
   "source": [
    "# Un vino por encima de 92 resulta siendo excelente\n",
    "x"
   ]
  },
  {
   "cell_type": "code",
   "execution_count": null,
   "metadata": {},
   "outputs": [],
   "source": [
    "# Genere las categorías con pd.cut()\n",
    "cats = ['malo', 'regular', 'bueno', 'excelente']\n",
    "cortes = [vinos.points.min(), q25, q75, x, vinos.points.max()]\n",
    "cortes"
   ]
  },
  {
   "cell_type": "code",
   "execution_count": null,
   "metadata": {},
   "outputs": [],
   "source": [
    "vinos['class'] = pd.cut(vinos['points'], \n",
    "                        cortes, \n",
    "                        labels = cats)"
   ]
  },
  {
   "cell_type": "code",
   "execution_count": null,
   "metadata": {},
   "outputs": [],
   "source": [
    "vinos['points'].tail()"
   ]
  },
  {
   "cell_type": "code",
   "execution_count": null,
   "metadata": {},
   "outputs": [],
   "source": [
    "vinos['class'].tail()"
   ]
  },
  {
   "cell_type": "code",
   "execution_count": null,
   "metadata": {},
   "outputs": [],
   "source": [
    "# Explore el tipo de datos de su variable creada\n",
    "vinos['class'].dtype"
   ]
  },
  {
   "cell_type": "code",
   "execution_count": null,
   "metadata": {},
   "outputs": [],
   "source": [
    "vinos.head()"
   ]
  },
  {
   "cell_type": "code",
   "execution_count": null,
   "metadata": {},
   "outputs": [],
   "source": [
    "# Genere variable booleana de recomendación (puntaje mayor o igual a 92)\n",
    "vinos['recommend'] = vinos['points'] >= 92"
   ]
  },
  {
   "cell_type": "code",
   "execution_count": null,
   "metadata": {},
   "outputs": [],
   "source": [
    "vinos['recommend'].head()"
   ]
  },
  {
   "cell_type": "code",
   "execution_count": null,
   "metadata": {},
   "outputs": [],
   "source": [
    "# proporcion de vinos que si son recomendados usando la variable recomendado\n",
    "vinos['recommend'].mean()"
   ]
  },
  {
   "cell_type": "code",
   "execution_count": null,
   "metadata": {},
   "outputs": [],
   "source": [
    "vinos['recommend'].value_counts()"
   ]
  },
  {
   "cell_type": "markdown",
   "metadata": {},
   "source": [
    "## Estandarización"
   ]
  },
  {
   "cell_type": "code",
   "execution_count": null,
   "metadata": {},
   "outputs": [],
   "source": [
    "# Dentro de los algoritmos que vamos a estar evaluando, en varios casos necesitaremos estandarizar las variables.\n",
    "# Para esto, veamos rápidamente dos forma"
   ]
  },
  {
   "cell_type": "markdown",
   "metadata": {},
   "source": [
    "## Diferencia entre MinMaxScaler y StandardScaler\n",
    "\n",
    "### Conceptos Básicos\n",
    "\n",
    "#### MinMaxScaler\n",
    "- **Fórmula**: `X_scaled = (X - X_min) / (X_max - X_min)`\n",
    "- **Rango resultante**: Datos escalados típicamente entre 0 y 1\n",
    "- **Comportamiento**: Escala los datos basándose en los valores mínimos y máximos\n",
    "\n",
    "#### StandardScaler\n",
    "- **Fórmula**: `X_scaled = (X - mean) / std_deviation`\n",
    "- **Rango resultante**: Datos con media 0 y desviación estándar 1\n",
    "- **Comportamiento**: Centra los datos alrededor de 0 y escala según la varianza\n",
    "\n",
    "### Comparación Visual\n",
    "#### Datos originales sin\n",
    "![Datos originales sin escalar](https://scikit-learn.org/stable/_images/sphx_glr_plot_all_scaling_001.png)\n",
    "\n",
    "#### Datos después de aplicar StandardScaler:\n",
    "![Datos con StandardScaler](https://scikit-learn.org/stable/_images/sphx_glr_plot_all_scaling_002.png)\n",
    "\n",
    "#### Datos después de aplicar MinMaxScaler:\n",
    "![Datos con MinMaxScaler](https://scikit-learn.org/stable/_images/sphx_glr_plot_all_scaling_003.png)\n",
    "\n",
    "### Principales Diferencias\n",
    "\n",
    "| Característica | MinMaxScaler | StandardScaler |\n",
    "|----------------|--------------|----------------|\n",
    "| Distribución de datos | Preserva la forma de la distribución original | Preserva la forma pero centra en 0 |\n",
    "| Rango de valores | Entre 0 y 1 (por defecto) | No tiene límites definidos (generalmente entre -3 y 3) |\n",
    "| Sensibilidad a outliers | Muy sensible a valores extremos | Sensible a outliers |\n",
    "| Casos de uso ideales | Cuando se necesitan valores acotados (ej. redes neuronales) | Algoritmos que asumen distribución normal |\n",
    "| Transformación | Lineal, basada en min/max | Lineal, basada en media/desviación |\n",
    "\n",
    "### Cuándo Usar Cada Uno\n",
    "\n",
    "#### Usar MinMaxScaler cuando:\n",
    "- Los datos no siguen una distribución normal\n",
    "- Se necesitan valores entre 0 y 1 (como entrada a una red neuronal)\n",
    "- Los límites superior e inferior son bien conocidos\n",
    "- Se trabaja con datos dispersos (sparse)\n",
    "- Se usan algoritmos basados en distancias como K-Nearest Neighbors\n",
    "\n",
    "#### Usar StandardScaler cuando:\n",
    "- Los datos siguen aproximadamente una distribución normal\n",
    "- Se usan algoritmos que asumen datos normalizados (regresión logística, SVM)\n",
    "- Se desea dar el mismo peso a todas las características\n",
    "- Se trabaja con algoritmos de gradiente descendente\n",
    "\n",
    "### Efectos en Presencia de Outliers\n",
    "\n",
    "- **MinMaxScaler**: Los outliers comprimen el resto de valores en un rango muy estrecho\n",
    "- **StandardScaler**: Los outliers afectan el cálculo de la media y desviación estándar, pero tienen menos impacto en la escala general\n",
    "\n",
    "### Recomendación\n",
    "\n",
    "Lo mejor es probar ambos métodos de escalamiento y evaluar el rendimiento del modelo con cada uno. Si no estás seguro de cuál usar, comienza con StandardScaler para algoritmos basados en gradientes y MinMaxScaler para redes neuronales o algoritmos basados en distancia."
   ]
  },
  {
   "cell_type": "code",
   "execution_count": null,
   "metadata": {},
   "outputs": [],
   "source": [
    "calidad_vinos"
   ]
  },
  {
   "cell_type": "code",
   "execution_count": null,
   "metadata": {},
   "outputs": [],
   "source": [
    "## Hay alguna forma de combinar los dos dataframes? Sí! Ambas columnas tienen el mismo título (identificador)"
   ]
  },
  {
   "cell_type": "code",
   "execution_count": null,
   "metadata": {},
   "outputs": [],
   "source": [
    "info_vinos = calidad_vinos.merge(vinos,on='title',how='left').reset_index(drop=True)"
   ]
  },
  {
   "cell_type": "code",
   "execution_count": null,
   "metadata": {},
   "outputs": [],
   "source": [
    "info_vinos.head(10)"
   ]
  },
  {
   "cell_type": "code",
   "execution_count": null,
   "metadata": {},
   "outputs": [],
   "source": [
    "info_vinos.columns"
   ]
  },
  {
   "cell_type": "markdown",
   "metadata": {},
   "source": [
    "Solo estandarizamos las variables numéricas"
   ]
  },
  {
   "cell_type": "code",
   "execution_count": null,
   "metadata": {},
   "outputs": [],
   "source": [
    "vars_estandarizar = ['fixed acidity', 'volatile acidity', 'citric acid',\n",
    "       'residual sugar', 'chlorides', 'free sulfur dioxide',\n",
    "       'total sulfur dioxide', 'density', 'pH', 'sulphates', 'alcohol',\n",
    "       'quality','points']"
   ]
  },
  {
   "cell_type": "code",
   "execution_count": null,
   "metadata": {},
   "outputs": [],
   "source": [
    "info_vinos[vars_estandarizar]"
   ]
  },
  {
   "cell_type": "code",
   "execution_count": null,
   "metadata": {},
   "outputs": [],
   "source": [
    "from sklearn.preprocessing import MinMaxScaler\n",
    "\n",
    "estandarizacion_min_max = MinMaxScaler()\n",
    "estandarizacion_min_max.fit(info_vinos[vars_estandarizar])"
   ]
  },
  {
   "cell_type": "code",
   "execution_count": null,
   "metadata": {},
   "outputs": [],
   "source": [
    "estandarizacion_min_max.transform(info_vinos[vars_estandarizar])"
   ]
  },
  {
   "cell_type": "code",
   "execution_count": null,
   "metadata": {},
   "outputs": [],
   "source": [
    "info_vinos_estandarizado = info_vinos.copy()\n",
    "info_vinos_estandarizado.loc[:,vars_estandarizar] = estandarizacion_min_max.transform(info_vinos[vars_estandarizar])"
   ]
  },
  {
   "cell_type": "code",
   "execution_count": null,
   "metadata": {},
   "outputs": [],
   "source": [
    "info_vinos_estandarizado[vars_estandarizar]"
   ]
  },
  {
   "cell_type": "code",
   "execution_count": null,
   "metadata": {},
   "outputs": [],
   "source": [
    "(0.045-info_vinos.chlorides.min())/(info_vinos.chlorides.max()-info_vinos.chlorides.min())"
   ]
  },
  {
   "cell_type": "markdown",
   "metadata": {},
   "source": [
    "Estandarización con la normal"
   ]
  },
  {
   "cell_type": "code",
   "execution_count": null,
   "metadata": {},
   "outputs": [],
   "source": [
    "from sklearn.preprocessing import StandardScaler\n",
    "\n",
    "estandarizacion_normal = StandardScaler()\n",
    "estandarizacion_normal.fit(info_vinos[vars_estandarizar])"
   ]
  },
  {
   "cell_type": "code",
   "execution_count": null,
   "metadata": {},
   "outputs": [],
   "source": [
    "info_vinos.loc[:,vars_estandarizar] = estandarizacion_normal.transform(info_vinos[vars_estandarizar])"
   ]
  },
  {
   "cell_type": "code",
   "execution_count": null,
   "metadata": {},
   "outputs": [],
   "source": [
    "info_vinos.loc[:,vars_estandarizar]"
   ]
  },
  {
   "cell_type": "code",
   "execution_count": null,
   "metadata": {},
   "outputs": [],
   "source": [
    "info_vinos_estandarizado_normal=pd.DataFrame(estandarizacion_normal.inverse_transform(info_vinos.loc[:,vars_estandarizar]),columns=vars_estandarizar)\n",
    "info_vinos_estandarizado_normal"
   ]
  },
  {
   "cell_type": "code",
   "execution_count": null,
   "metadata": {},
   "outputs": [],
   "source": [
    "# Veamos un ejemplo de diferencias entre los dos tipos de estandarización\n",
    "info_vinos_estandarizado.loc[:,['fixed acidity','volatile acidity','citric acid']].describe()\n"
   ]
  },
  {
   "cell_type": "code",
   "execution_count": null,
   "metadata": {},
   "outputs": [],
   "source": [
    "info_vinos_estandarizado_normal.loc[:,['fixed acidity','volatile acidity','citric acid']].describe()"
   ]
  },
  {
   "attachments": {},
   "cell_type": "markdown",
   "metadata": {},
   "source": [
    "## ¿Cómo lidiar con los NAs o missing values?\n",
    "Primero vamos a identificar aquellas observaciones que son explícitamente NA"
   ]
  },
  {
   "cell_type": "code",
   "execution_count": null,
   "metadata": {},
   "outputs": [],
   "source": [
    "# Identifique qué observaciones no cuentan con información de su precio\n",
    "info_vinos['fixed acidity'].isna().head()"
   ]
  },
  {
   "cell_type": "code",
   "execution_count": null,
   "metadata": {},
   "outputs": [],
   "source": [
    "info_vinos.isna().sum()"
   ]
  },
  {
   "cell_type": "code",
   "execution_count": null,
   "metadata": {},
   "outputs": [],
   "source": [
    "np.round(100*info_vinos.isna().mean(), 2)"
   ]
  },
  {
   "cell_type": "code",
   "execution_count": null,
   "metadata": {},
   "outputs": [],
   "source": [
    "# Opción 1: eliminar las observaciones sin información del precio\n",
    "vinos1 = info_vinos[info_vinos['fixed acidity'].notna()]"
   ]
  },
  {
   "cell_type": "code",
   "execution_count": null,
   "metadata": {},
   "outputs": [],
   "source": [
    "vinos1 = info_vinos[~info_vinos['fixed acidity'].isna()]"
   ]
  },
  {
   "cell_type": "code",
   "execution_count": null,
   "metadata": {},
   "outputs": [],
   "source": [
    "vinos1 = info_vinos.dropna(subset = ['fixed acidity'])"
   ]
  },
  {
   "cell_type": "code",
   "execution_count": null,
   "metadata": {},
   "outputs": [],
   "source": [
    "vinos1.shape"
   ]
  },
  {
   "cell_type": "code",
   "execution_count": null,
   "metadata": {},
   "outputs": [],
   "source": [
    "# ¿Cuántas observaciones perdimos?\n",
    "vinos1.shape[0] - info_vinos.shape[0]"
   ]
  },
  {
   "cell_type": "code",
   "execution_count": null,
   "metadata": {},
   "outputs": [],
   "source": [
    "# ¿Qué proporción de observaciones perdimos?\n",
    "vinos1.shape[0]/info_vinos.shape[0] - 1"
   ]
  },
  {
   "cell_type": "code",
   "execution_count": null,
   "metadata": {},
   "outputs": [],
   "source": [
    "# Opción 2: Asignarles el precio promedio o mediano de las observaciones con esta información.\n",
    "vinos2 = info_vinos.copy()\n",
    "valor_promedio = vinos2['fixed acidity'].mean()\n",
    "valor_promedio"
   ]
  },
  {
   "cell_type": "code",
   "execution_count": null,
   "metadata": {},
   "outputs": [],
   "source": [
    "vinos2['fixed acidity'] = vinos2['fixed acidity'].fillna(vinos2['fixed acidity'].mean())\n",
    "vinos2['fixed acidity'].head()"
   ]
  },
  {
   "cell_type": "code",
   "execution_count": null,
   "metadata": {},
   "outputs": [],
   "source": [
    "info_vinos.dtypes"
   ]
  },
  {
   "cell_type": "code",
   "execution_count": null,
   "metadata": {},
   "outputs": [],
   "source": [
    "# Opción 3: Asignandole la media/mediana de algún grupo relevante\n",
    "tabla_imputacion = info_vinos.groupby(\"class\")['fixed acidity'].median().reset_index()\n",
    "tabla_imputacion"
   ]
  },
  {
   "cell_type": "code",
   "execution_count": null,
   "metadata": {},
   "outputs": [],
   "source": [
    "diccionario_imputacion = dict(tabla_imputacion.values)\n",
    "diccionario_imputacion"
   ]
  },
  {
   "cell_type": "code",
   "execution_count": null,
   "metadata": {},
   "outputs": [],
   "source": [
    "# A cada clase se le está asignando un precio según el diccionario\n",
    "valores_imputacion = info_vinos[\"class\"].map(diccionario_imputacion)\n",
    "valores_imputacion = np.array(valores_imputacion)\n",
    "valores_imputacion"
   ]
  },
  {
   "cell_type": "code",
   "execution_count": null,
   "metadata": {},
   "outputs": [],
   "source": [
    "filtro = info_vinos['fixed acidity'].isna()\n",
    "filtro"
   ]
  },
  {
   "cell_type": "code",
   "execution_count": null,
   "metadata": {},
   "outputs": [],
   "source": [
    "vinos3 = info_vinos.copy()"
   ]
  },
  {
   "cell_type": "code",
   "execution_count": null,
   "metadata": {},
   "outputs": [],
   "source": [
    "vinos3.loc[filtro, \"fixed acidity\"] = valores_imputacion[filtro]"
   ]
  },
  {
   "cell_type": "code",
   "execution_count": null,
   "metadata": {},
   "outputs": [],
   "source": [
    "vinos3.loc[filtro, [\"fixed acidity\", \"class\"]]"
   ]
  },
  {
   "cell_type": "code",
   "execution_count": null,
   "metadata": {},
   "outputs": [],
   "source": [
    "# ¿Son los NA at random? ¿O siguen algún patrón?\n",
    "np.round(100*vinos3[\"class\"].value_counts(normalize = True), 2)"
   ]
  },
  {
   "cell_type": "code",
   "execution_count": null,
   "metadata": {},
   "outputs": [],
   "source": [
    "np.round(100*vinos3.loc[filtro, [\"price\", \"class\"]].value_counts(normalize = True), 2)"
   ]
  },
  {
   "cell_type": "code",
   "execution_count": null,
   "metadata": {},
   "outputs": [],
   "source": [
    "diccionario_imputacion"
   ]
  },
  {
   "cell_type": "code",
   "execution_count": null,
   "metadata": {},
   "outputs": [],
   "source": [
    "# Comparemos los métodos 2, 3 \n",
    "info_vinos.shape[0] == vinos2.shape[0] == vinos3.shape[0] "
   ]
  },
  {
   "cell_type": "code",
   "execution_count": null,
   "metadata": {},
   "outputs": [],
   "source": [
    "vinos2 = vinos2.rename(columns = {\"fixed acidity\": \"acidity_media\"})\n",
    "vinos3 = vinos3.rename(columns = {\"fixed acidity\": \"acidity_categoria\"})"
   ]
  },
  {
   "cell_type": "code",
   "execution_count": null,
   "metadata": {},
   "outputs": [],
   "source": [
    "imputar_media = vinos2[[\"acidity_media\"]]\n",
    "imputar_categoria = vinos3[[\"acidity_categoria\"]]"
   ]
  },
  {
   "cell_type": "code",
   "execution_count": null,
   "metadata": {},
   "outputs": [],
   "source": [
    "vinos_comparacion = pd.concat([info_vinos[['country', 'province', 'points', \"fixed acidity\"]], imputar_media, imputar_categoria], axis = 1)"
   ]
  },
  {
   "cell_type": "code",
   "execution_count": null,
   "metadata": {},
   "outputs": [],
   "source": [
    "vinos_comparacion"
   ]
  },
  {
   "cell_type": "code",
   "execution_count": null,
   "metadata": {},
   "outputs": [],
   "source": [
    "vinos_comparacion.loc[vinos_comparacion[\"fixed acidity\"].isna(), ]"
   ]
  },
  {
   "attachments": {},
   "cell_type": "markdown",
   "metadata": {},
   "source": [
    "## Visualizaciones"
   ]
  },
  {
   "cell_type": "code",
   "execution_count": null,
   "metadata": {},
   "outputs": [],
   "source": [
    "# Cargue las información del precio de la acción de Google\n",
    "google = pd.read_csv('GOOG.csv', header=None, delimiter=',') # No tienen titulo \n",
    "google"
   ]
  },
  {
   "cell_type": "code",
   "execution_count": null,
   "metadata": {},
   "outputs": [],
   "source": [
    "google.columns = ['Fecha', 'Precio'] # Asigne titulos\n",
    "google.head()"
   ]
  },
  {
   "cell_type": "code",
   "execution_count": null,
   "metadata": {},
   "outputs": [],
   "source": [
    "google.dtypes"
   ]
  },
  {
   "cell_type": "code",
   "execution_count": null,
   "metadata": {},
   "outputs": [],
   "source": [
    "google['Fecha'] = pd.to_datetime(google['Fecha'], format=\"%d-%m-%Y\")\n",
    "google.head()"
   ]
  },
  {
   "cell_type": "code",
   "execution_count": null,
   "metadata": {},
   "outputs": [],
   "source": [
    "google.dtypes"
   ]
  },
  {
   "cell_type": "code",
   "execution_count": null,
   "metadata": {},
   "outputs": [],
   "source": [
    "#pip install matplotlib"
   ]
  },
  {
   "cell_type": "code",
   "execution_count": null,
   "metadata": {},
   "outputs": [],
   "source": [
    "#pip install seaborn"
   ]
  },
  {
   "cell_type": "code",
   "execution_count": null,
   "metadata": {},
   "outputs": [],
   "source": [
    "import matplotlib.pyplot as plt\n",
    "import seaborn as sns"
   ]
  },
  {
   "cell_type": "code",
   "execution_count": null,
   "metadata": {},
   "outputs": [],
   "source": [
    "# https://www.python-graph-gallery.com/"
   ]
  },
  {
   "cell_type": "code",
   "execution_count": null,
   "metadata": {},
   "outputs": [],
   "source": [
    "fig, ax = plt.subplots(figsize = (20, 6))\n",
    "sns.lineplot(data = google, x = \"Fecha\", y = \"Precio\", ax = ax, color = \"darkblue\")\n",
    "sns.scatterplot(data = google, x = \"Fecha\", y = \"Precio\", ax = ax, color = \"darkblue\")\n",
    "ax.yaxis.set_major_formatter(\"${x:,.0f}\")\n",
    "plt.title(\"Precio de la acción de Google\")"
   ]
  },
  {
   "cell_type": "code",
   "execution_count": null,
   "metadata": {},
   "outputs": [],
   "source": [
    "import plotly.express as px"
   ]
  },
  {
   "cell_type": "code",
   "execution_count": null,
   "metadata": {},
   "outputs": [],
   "source": [
    "google.isna().mean()"
   ]
  },
  {
   "cell_type": "code",
   "execution_count": null,
   "metadata": {},
   "outputs": [],
   "source": [
    "#pip install nbformat>=4.2.0"
   ]
  },
  {
   "cell_type": "code",
   "execution_count": null,
   "metadata": {},
   "outputs": [],
   "source": [
    "fig = px.line(data_frame = google, x = \"Fecha\", y = \"Precio\", title = \"Precio de la acción de Google\",\n",
    "              markers = True)\n",
    "fig.update_traces(line_color = 'darkblue', line_width = 2)\n",
    "fig.show()"
   ]
  },
  {
   "cell_type": "code",
   "execution_count": null,
   "metadata": {},
   "outputs": [],
   "source": [
    "# Número de vinos por país\n",
    "paises = vinos.groupby('country').size().sort_values(ascending = False).reset_index(name = \"Cantidad\")\n",
    "paises.head()"
   ]
  },
  {
   "cell_type": "code",
   "execution_count": null,
   "metadata": {},
   "outputs": [],
   "source": [
    "fig, ax = plt.subplots(figsize = (20, 7))\n",
    "sns.barplot(data = paises, x = \"Cantidad\", y = \"country\", order = paises[\"country\"], ax = ax)\n",
    "plt.xlabel(\"Cantidad\")\n",
    "plt.ylabel(\"País\")"
   ]
  },
  {
   "cell_type": "code",
   "execution_count": null,
   "metadata": {},
   "outputs": [],
   "source": [
    "paises[\"Porcentaje\"] = paises[\"Cantidad\"]/paises[\"Cantidad\"].sum()\n",
    "paises[\"Porcentaje acumulado\"] = paises[\"Porcentaje\"].cumsum()\n",
    "paises"
   ]
  },
  {
   "cell_type": "code",
   "execution_count": null,
   "metadata": {},
   "outputs": [],
   "source": [
    "paises.loc[paises[\"Cantidad\"] < 1000, \"country\"] = \"Otro\""
   ]
  },
  {
   "cell_type": "code",
   "execution_count": null,
   "metadata": {},
   "outputs": [],
   "source": [
    "paises[\"country\"] = paises[\"country\"].astype(str)\n",
    "paises.loc[paises[\"Cantidad\"] < 1000, \"country\"] = \"Otro\""
   ]
  },
  {
   "cell_type": "code",
   "execution_count": null,
   "metadata": {},
   "outputs": [],
   "source": [
    "paises2 = paises.groupby(\"country\")[[\"Cantidad\", \"Porcentaje\"]].sum().reset_index().sort_values(\"Cantidad\", ascending = False)"
   ]
  },
  {
   "cell_type": "code",
   "execution_count": null,
   "metadata": {},
   "outputs": [],
   "source": [
    "paises2"
   ]
  },
  {
   "cell_type": "code",
   "execution_count": null,
   "metadata": {},
   "outputs": [],
   "source": [
    "fig, ax = plt.subplots(figsize = (20, 7))\n",
    "sns.barplot(data = paises2, x = \"Cantidad\", y = \"country\", order = paises2[\"country\"], ax = ax,\n",
    "            palette = \"RdYlGn_r\",hue=\"country\")\n",
    "plt.xlabel(\"Cantidad de vinos\")\n",
    "plt.ylabel(\"País\")\n",
    "ax.xaxis.set_major_formatter(\"{x:,.0f}\")\n",
    "\n",
    "# Anotación del valor de cada barra\n",
    "total = paises2.Cantidad.sum()\n",
    "for barra in ax.patches:\n",
    "    h, w = barra.get_y(), barra.get_width()\n",
    "    ax.text(x = w + 1500, y = h + 0.38, s = \"{:.2%}\".format(w/total), # \"{:,.0f}\".format(w)\n",
    "            ha = 'center',\n",
    "            va = 'center')"
   ]
  },
  {
   "cell_type": "code",
   "execution_count": null,
   "metadata": {},
   "outputs": [],
   "source": [
    "fig, ax = plt.subplots(figsize = (20, 7))\n",
    "sns.barplot(data = paises2, x = \"Cantidad\", y = \"country\", order = paises2[\"country\"], ax = ax,\n",
    "            palette = list(np.where(paises2.country == \"Otro\", \"Red\", \"Grey\")),hue='country')\n",
    "plt.xlabel(\"Cantidad de vinos\")\n",
    "plt.ylabel(\"País\")\n",
    "ax.xaxis.set_major_formatter(\"{x:,.0f}\")\n",
    "\n",
    "# Anotación del valor de cada barra\n",
    "total = paises2.Cantidad.sum()\n",
    "for barra in ax.patches:\n",
    "    h, w = barra.get_y(), barra.get_width()\n",
    "    ax.text(x = w + 1500, y = h + 0.38, s = \"{:.2%}\".format(w/total), # \"{:,.0f}\".format(w)\n",
    "            ha = 'center',\n",
    "            va = 'center')"
   ]
  },
  {
   "cell_type": "code",
   "execution_count": null,
   "metadata": {},
   "outputs": [],
   "source": [
    "fig = px.bar(paises2, x = \"Cantidad\", y = \"country\")\n",
    "fig.show()"
   ]
  },
  {
   "cell_type": "code",
   "execution_count": null,
   "metadata": {},
   "outputs": [],
   "source": [
    "import plotly.graph_objects as go"
   ]
  },
  {
   "cell_type": "code",
   "execution_count": null,
   "metadata": {},
   "outputs": [],
   "source": [
    "fig = go.Figure([\n",
    "    go.Bar(x = paises2[\"country\"], y = paises2[\"Cantidad\"])\n",
    "    ])\n",
    "fig.show()"
   ]
  },
  {
   "cell_type": "code",
   "execution_count": null,
   "metadata": {},
   "outputs": [],
   "source": [
    "# https://plotly.com/python/horizontal-bar-charts/\n",
    "fig = go.Figure([\n",
    "    go.Bar(y = paises2[\"country\"], x = paises2[\"Cantidad\"], orientation = 'h', \n",
    "           marker = dict(color = 'rgba(50, 171, 96, 0.6)', line = dict(color = 'rgba(50, 171, 96, 1.0)', width = 1)),\n",
    "           hovertemplate = 'País: %{y}'+ '<br>Cantidad: %{x}'\n",
    "           )\n",
    "    ])\n",
    "\n",
    "fig.update_layout(\n",
    "    title = 'Tipos de vino por país',\n",
    "    yaxis = dict(\n",
    "        showgrid = False,\n",
    "        showticklabels = True,\n",
    "    ),\n",
    "    xaxis = dict(\n",
    "        showticklabels = True,\n",
    "        showgrid = False\n",
    "    ),\n",
    "    paper_bgcolor = 'rgb(248, 248, 255)',\n",
    "    plot_bgcolor = 'rgb(248, 248, 255)',\n",
    ")\n",
    "\n",
    "fig.show()"
   ]
  },
  {
   "cell_type": "code",
   "execution_count": null,
   "metadata": {},
   "outputs": [],
   "source": [
    "# Histograma de la puntuación de los vinos combinando grafico directo de pandas y Matplotlib para formato\n",
    "fig, ax = plt.subplots(figsize = (20, 6))\n",
    "\n",
    "sns.histplot(data = vinos, x = \"points\", bins = 20, ax = ax)\n",
    "plt.xlabel('Puntuación')\n",
    "plt.ylabel('Frecuencia')\n",
    "plt.title('Distribución de la puntuación de vinos')\n",
    "\n",
    "# Linea vertical en el umbral de recomendación\n",
    "plt.axvline(x = 92, linewidth = 2, color = 'r', linestyle = \"dashed\")\n",
    "plt.show()"
   ]
  },
  {
   "cell_type": "code",
   "execution_count": null,
   "metadata": {},
   "outputs": [],
   "source": [
    "fig = px.histogram(vinos, x = \"points\", nbins = 20, opacity = 0.8)\n",
    "fig.show()"
   ]
  },
  {
   "cell_type": "code",
   "execution_count": null,
   "metadata": {},
   "outputs": [],
   "source": [
    "vinos_paises = vinos.loc[vinos.country.isin([\"Italy\", \"France\"]),].reset_index(drop = True)\n",
    "vinos_paises[\"country\"] = vinos_paises[\"country\"].astype(str)\n",
    "\n",
    "# Histograma de la puntuación de los vinos combinando grafico directo de pandas y Matplotlib para formato\n",
    "fig, ax = plt.subplots(figsize = (20, 6))\n",
    "\n",
    "sns.histplot(data = vinos_paises, x = \"points\", hue = \"country\", stat = \"density\", bins = 10, \n",
    "             palette = [\"green\", \"blue\"], ax = ax)\n",
    "plt.xlabel('Puntuación')\n",
    "plt.ylabel('Frecuencia')\n",
    "plt.title('Distribución de la puntuación de vinos')\n",
    "\n",
    "# Linea vertical en el umbral de recomendación\n",
    "plt.axvline(x = 92, linewidth = 2, color = 'r', linestyle = \"dashed\")\n",
    "plt.show()"
   ]
  },
  {
   "cell_type": "code",
   "execution_count": null,
   "metadata": {},
   "outputs": [],
   "source": [
    "fig, ax = plt.subplots(figsize = (20, 6))\n",
    "\n",
    "sns.boxplot(data = vinos, x = \"class\", y = \"price\", ax = ax, palette = \"RdYlGn\")\n",
    "plt.ylim(0, 500)\n",
    "plt.xlabel('Calidad del vino')\n",
    "plt.ylabel('Precio del vino')\n",
    "ax.yaxis.set_major_formatter(\"${x:,.0f}\")"
   ]
  },
  {
   "cell_type": "code",
   "execution_count": null,
   "metadata": {},
   "outputs": [],
   "source": []
  },
  {
   "cell_type": "markdown",
   "metadata": {},
   "source": [
    "## TAREA - Taller "
   ]
  },
  {
   "cell_type": "markdown",
   "metadata": {},
   "source": [
    " 1. Además de entender las posibles distribuciones o gráficos de dispersión a través del tiempo, nos interesa poder visualizar las relaciones entre dos variables numéricas. Esto nos permite observar si existe algun tipo de correlacion. Investigue e implemente el comando `plt.scatter` o `sns.scatter` para evidenciar cualesquiera dos de sus variables. ¿Qué historia se puede contar?"
   ]
  },
  {
   "cell_type": "code",
   "execution_count": null,
   "metadata": {},
   "outputs": [],
   "source": []
  },
  {
   "cell_type": "markdown",
   "metadata": {},
   "source": [
    "2. Use un gráfico de torta (un pie graph en inglés) para ver la distribución por clase. Investigue si existe alguna forma de \"extraer\" (explode en inglés) pedazos de dicha torta "
   ]
  },
  {
   "cell_type": "code",
   "execution_count": null,
   "metadata": {},
   "outputs": [],
   "source": []
  },
  {
   "cell_type": "markdown",
   "metadata": {},
   "source": [
    "3. Incorpore las 2 vistas para que estén en un único visual."
   ]
  },
  {
   "cell_type": "code",
   "execution_count": null,
   "metadata": {},
   "outputs": [],
   "source": []
  }
 ],
 "metadata": {
  "kernelspec": {
   "display_name": ".venv",
   "language": "python",
   "name": "python3"
  },
  "language_info": {
   "codemirror_mode": {
    "name": "ipython",
    "version": 3
   },
   "file_extension": ".py",
   "mimetype": "text/x-python",
   "name": "python",
   "nbconvert_exporter": "python",
   "pygments_lexer": "ipython3",
   "version": "3.8.10"
  }
 },
 "nbformat": 4,
 "nbformat_minor": 4
}
